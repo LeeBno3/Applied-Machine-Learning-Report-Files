{
 "cells": [
  {
   "cell_type": "markdown",
   "metadata": {},
   "source": [
    "# Applied Machine Learning data transformation code"
   ]
  },
  {
   "cell_type": "code",
   "execution_count": 198,
   "metadata": {},
   "outputs": [],
   "source": [
    "import matplotlib.pyplot as plt\n",
    "%matplotlib inline\n",
    "import pandas as pd\n",
    "import numpy as np\n",
    "import datetime"
   ]
  },
  {
   "cell_type": "code",
   "execution_count": 199,
   "metadata": {},
   "outputs": [],
   "source": [
    "dataset = pd.read_csv(\"Retirement Raw Data.csv\")"
   ]
  },
  {
   "cell_type": "code",
   "execution_count": 200,
   "metadata": {},
   "outputs": [
    {
     "data": {
      "text/html": [
       "<div>\n",
       "<style scoped>\n",
       "    .dataframe tbody tr th:only-of-type {\n",
       "        vertical-align: middle;\n",
       "    }\n",
       "\n",
       "    .dataframe tbody tr th {\n",
       "        vertical-align: top;\n",
       "    }\n",
       "\n",
       "    .dataframe thead th {\n",
       "        text-align: right;\n",
       "    }\n",
       "</style>\n",
       "<table border=\"1\" class=\"dataframe\">\n",
       "  <thead>\n",
       "    <tr style=\"text-align: right;\">\n",
       "      <th></th>\n",
       "      <th>ID Key</th>\n",
       "      <th>Location</th>\n",
       "      <th>Department</th>\n",
       "      <th>Directorate</th>\n",
       "      <th>Cost Centre</th>\n",
       "      <th>Grade Name</th>\n",
       "      <th>FTE</th>\n",
       "      <th>End Date</th>\n",
       "      <th>Gender</th>\n",
       "      <th>Date of Birth</th>\n",
       "      <th>Pension Scheme</th>\n",
       "      <th>Termination Reason</th>\n",
       "      <th>Date Eligible for Retirement</th>\n",
       "    </tr>\n",
       "  </thead>\n",
       "  <tbody>\n",
       "    <tr>\n",
       "      <th>0</th>\n",
       "      <td>1</td>\n",
       "      <td>WY</td>\n",
       "      <td>WY CT1</td>\n",
       "      <td>Operations</td>\n",
       "      <td>575</td>\n",
       "      <td>HEO</td>\n",
       "      <td>0.00</td>\n",
       "      <td>20/12/2017</td>\n",
       "      <td>M</td>\n",
       "      <td>14/03/1956</td>\n",
       "      <td>Other</td>\n",
       "      <td>RETIREMENT</td>\n",
       "      <td>14/03/2016</td>\n",
       "    </tr>\n",
       "    <tr>\n",
       "      <th>1</th>\n",
       "      <td>2</td>\n",
       "      <td>DM</td>\n",
       "      <td>Registration Services</td>\n",
       "      <td>Operations</td>\n",
       "      <td>1470</td>\n",
       "      <td>SEO</td>\n",
       "      <td>0.49</td>\n",
       "      <td>NaN</td>\n",
       "      <td>M</td>\n",
       "      <td>22/07/1955</td>\n",
       "      <td>Alpha</td>\n",
       "      <td>NaN</td>\n",
       "      <td>05/06/2021</td>\n",
       "    </tr>\n",
       "    <tr>\n",
       "      <th>2</th>\n",
       "      <td>3</td>\n",
       "      <td>FY</td>\n",
       "      <td>Fylde</td>\n",
       "      <td>0</td>\n",
       "      <td>250</td>\n",
       "      <td>G6</td>\n",
       "      <td>0.00</td>\n",
       "      <td>31/10/2013</td>\n",
       "      <td>M</td>\n",
       "      <td>21/07/1956</td>\n",
       "      <td>Other</td>\n",
       "      <td>RETIREMENT</td>\n",
       "      <td>21/07/2016</td>\n",
       "    </tr>\n",
       "    <tr>\n",
       "      <th>3</th>\n",
       "      <td>4</td>\n",
       "      <td>PB</td>\n",
       "      <td>Registration Services</td>\n",
       "      <td>Operations</td>\n",
       "      <td>1470</td>\n",
       "      <td>HEO</td>\n",
       "      <td>0.49</td>\n",
       "      <td>29/04/2021</td>\n",
       "      <td>M</td>\n",
       "      <td>09/05/1955</td>\n",
       "      <td>Alpha</td>\n",
       "      <td>RESIGNATION</td>\n",
       "      <td>05/04/2021</td>\n",
       "    </tr>\n",
       "    <tr>\n",
       "      <th>4</th>\n",
       "      <td>5</td>\n",
       "      <td>GL</td>\n",
       "      <td>Gloucester Office</td>\n",
       "      <td>0</td>\n",
       "      <td>175</td>\n",
       "      <td>HEO</td>\n",
       "      <td>0.00</td>\n",
       "      <td>31/05/2014</td>\n",
       "      <td>M</td>\n",
       "      <td>31/03/1954</td>\n",
       "      <td>Other</td>\n",
       "      <td>RETIREMENT</td>\n",
       "      <td>31/03/2014</td>\n",
       "    </tr>\n",
       "  </tbody>\n",
       "</table>\n",
       "</div>"
      ],
      "text/plain": [
       "   ID Key Location             Department Directorate  Cost Centre Grade Name  \\\n",
       "0       1       WY                 WY CT1  Operations          575        HEO   \n",
       "1       2       DM  Registration Services  Operations         1470        SEO   \n",
       "2       3       FY                  Fylde           0          250         G6   \n",
       "3       4       PB  Registration Services  Operations         1470        HEO   \n",
       "4       5       GL      Gloucester Office           0          175        HEO   \n",
       "\n",
       "    FTE    End Date Gender Date of Birth Pension Scheme Termination Reason  \\\n",
       "0  0.00  20/12/2017      M    14/03/1956          Other         RETIREMENT   \n",
       "1  0.49         NaN      M    22/07/1955          Alpha                NaN   \n",
       "2  0.00  31/10/2013      M    21/07/1956          Other         RETIREMENT   \n",
       "3  0.49  29/04/2021      M    09/05/1955          Alpha        RESIGNATION   \n",
       "4  0.00  31/05/2014      M    31/03/1954          Other         RETIREMENT   \n",
       "\n",
       "  Date Eligible for Retirement  \n",
       "0                   14/03/2016  \n",
       "1                   05/06/2021  \n",
       "2                   21/07/2016  \n",
       "3                   05/04/2021  \n",
       "4                   31/03/2014  "
      ]
     },
     "execution_count": 200,
     "metadata": {},
     "output_type": "execute_result"
    }
   ],
   "source": [
    "dataset.head()"
   ]
  },
  {
   "cell_type": "code",
   "execution_count": 201,
   "metadata": {},
   "outputs": [
    {
     "data": {
      "text/plain": [
       "(8962, 13)"
      ]
     },
     "execution_count": 201,
     "metadata": {},
     "output_type": "execute_result"
    }
   ],
   "source": [
    "len(dataset)\n",
    "dataset.shape"
   ]
  },
  {
   "cell_type": "markdown",
   "metadata": {},
   "source": [
    "##### Adding columns to the DataFrame:\n",
    "1. The difference between End Date and Date Eligible for Retirement\n",
    "1. Calculate Age from Date of Birth\n",
    "1. Retirement Reason True = RETIREMENT or FALSE = Any other reason.\n"
   ]
  },
  {
   "cell_type": "markdown",
   "metadata": {},
   "source": [
    "##### The difference between End Date and Date Eligible for Retirement"
   ]
  },
  {
   "cell_type": "code",
   "execution_count": 202,
   "metadata": {},
   "outputs": [
    {
     "name": "stdout",
     "output_type": "stream",
     "text": [
      "End Date                        datetime64[ns]\n",
      "Date Eligible for Retirement    datetime64[ns]\n",
      "dtype: object\n"
     ]
    }
   ],
   "source": [
    "date_series = dataset[['End Date', 'Date Eligible for Retirement']].apply(pd.to_datetime)\n",
    "\n",
    "print(date_series.dtypes)"
   ]
  },
  {
   "cell_type": "code",
   "execution_count": 203,
   "metadata": {},
   "outputs": [
    {
     "name": "stdout",
     "output_type": "stream",
     "text": [
      "0        1.768688\n",
      "1             NaN\n",
      "2       -2.721480\n",
      "3       -0.013690\n",
      "4        0.167012\n",
      "5        0.000000\n",
      "6        1.656434\n",
      "7             NaN\n",
      "8             NaN\n",
      "9        2.904919\n",
      "10      -0.238198\n",
      "11       2.026051\n",
      "12      -1.839874\n",
      "13      -0.027379\n",
      "14       0.679001\n",
      "15      -1.919273\n",
      "16      -0.090351\n",
      "17       0.098565\n",
      "18            NaN\n",
      "19      -0.925413\n",
      "20      -0.167012\n",
      "21       6.321827\n",
      "22            NaN\n",
      "23            NaN\n",
      "24      -4.648966\n",
      "25            NaN\n",
      "26      -1.467518\n",
      "27       0.084875\n",
      "28       3.041815\n",
      "29            NaN\n",
      "          ...    \n",
      "8932          NaN\n",
      "8933          NaN\n",
      "8934          NaN\n",
      "8935          NaN\n",
      "8936   -33.128675\n",
      "8937          NaN\n",
      "8938          NaN\n",
      "8939          NaN\n",
      "8940          NaN\n",
      "8941          NaN\n",
      "8942          NaN\n",
      "8943          NaN\n",
      "8944          NaN\n",
      "8945          NaN\n",
      "8946          NaN\n",
      "8947          NaN\n",
      "8948          NaN\n",
      "8949          NaN\n",
      "8950          NaN\n",
      "8951          NaN\n",
      "8952          NaN\n",
      "8953          NaN\n",
      "8954          NaN\n",
      "8955          NaN\n",
      "8956          NaN\n",
      "8957          NaN\n",
      "8958          NaN\n",
      "8959          NaN\n",
      "8960          NaN\n",
      "8961          NaN\n",
      "Length: 8962, dtype: float64\n"
     ]
    }
   ],
   "source": [
    "date_series = ((date_series['End Date'] - date_series['Date Eligible for Retirement'])/np.timedelta64(1, 'Y'))\n",
    "date_series = date_series.astype(float)\n",
    "print(date_series)"
   ]
  },
  {
   "cell_type": "code",
   "execution_count": 204,
   "metadata": {},
   "outputs": [],
   "source": [
    "diffs = date_series.to_frame(name='Retirement Difference')"
   ]
  },
  {
   "cell_type": "code",
   "execution_count": 205,
   "metadata": {},
   "outputs": [
    {
     "data": {
      "text/html": [
       "<div>\n",
       "<style scoped>\n",
       "    .dataframe tbody tr th:only-of-type {\n",
       "        vertical-align: middle;\n",
       "    }\n",
       "\n",
       "    .dataframe tbody tr th {\n",
       "        vertical-align: top;\n",
       "    }\n",
       "\n",
       "    .dataframe thead th {\n",
       "        text-align: right;\n",
       "    }\n",
       "</style>\n",
       "<table border=\"1\" class=\"dataframe\">\n",
       "  <thead>\n",
       "    <tr style=\"text-align: right;\">\n",
       "      <th></th>\n",
       "      <th>Retirement Difference</th>\n",
       "    </tr>\n",
       "  </thead>\n",
       "  <tbody>\n",
       "    <tr>\n",
       "      <th>0</th>\n",
       "      <td>1.768688</td>\n",
       "    </tr>\n",
       "    <tr>\n",
       "      <th>1</th>\n",
       "      <td>NaN</td>\n",
       "    </tr>\n",
       "    <tr>\n",
       "      <th>2</th>\n",
       "      <td>-2.721480</td>\n",
       "    </tr>\n",
       "    <tr>\n",
       "      <th>3</th>\n",
       "      <td>-0.013690</td>\n",
       "    </tr>\n",
       "    <tr>\n",
       "      <th>4</th>\n",
       "      <td>0.167012</td>\n",
       "    </tr>\n",
       "  </tbody>\n",
       "</table>\n",
       "</div>"
      ],
      "text/plain": [
       "   Retirement Difference\n",
       "0               1.768688\n",
       "1                    NaN\n",
       "2              -2.721480\n",
       "3              -0.013690\n",
       "4               0.167012"
      ]
     },
     "execution_count": 205,
     "metadata": {},
     "output_type": "execute_result"
    }
   ],
   "source": [
    "diffs.head()"
   ]
  },
  {
   "cell_type": "code",
   "execution_count": 206,
   "metadata": {},
   "outputs": [],
   "source": [
    "joined = [dataset, diffs]\n",
    "\n",
    "adj_data = pd.concat(joined, axis=1, join='inner')"
   ]
  },
  {
   "cell_type": "markdown",
   "metadata": {},
   "source": [
    "#### Calculate Age from Date of Birth"
   ]
  },
  {
   "cell_type": "code",
   "execution_count": 207,
   "metadata": {},
   "outputs": [],
   "source": [
    "date_series2 = adj_data[['End Date', 'Date of Birth']].apply(pd.to_datetime)"
   ]
  },
  {
   "cell_type": "code",
   "execution_count": 208,
   "metadata": {},
   "outputs": [
    {
     "name": "stdout",
     "output_type": "stream",
     "text": [
      "End Date         datetime64[ns]\n",
      "Date of Birth    datetime64[ns]\n",
      "dtype: object\n"
     ]
    }
   ],
   "source": [
    "print(date_series2.dtypes)"
   ]
  },
  {
   "cell_type": "code",
   "execution_count": 209,
   "metadata": {},
   "outputs": [
    {
     "name": "stdout",
     "output_type": "stream",
     "text": [
      "0       61.769920\n",
      "1             NaN\n",
      "2       57.279752\n",
      "3       65.649534\n",
      "4       60.168244\n",
      "5       60.001232\n",
      "6       67.552380\n",
      "7             NaN\n",
      "8             NaN\n",
      "9       67.533214\n",
      "10      65.926063\n",
      "11      62.027283\n",
      "12      64.203919\n",
      "13      59.973853\n",
      "14      66.002724\n",
      "15      58.081959\n",
      "16      65.961656\n",
      "17      60.099797\n",
      "18            NaN\n",
      "19      64.907561\n",
      "20      59.834220\n",
      "21      68.806341\n",
      "22            NaN\n",
      "23            NaN\n",
      "24      60.844507\n",
      "25            NaN\n",
      "26      64.611867\n",
      "27      60.086107\n",
      "28      63.043047\n",
      "29            NaN\n",
      "          ...    \n",
      "8932          NaN\n",
      "8933          NaN\n",
      "8934          NaN\n",
      "8935          NaN\n",
      "8936    34.965810\n",
      "8937          NaN\n",
      "8938          NaN\n",
      "8939          NaN\n",
      "8940          NaN\n",
      "8941          NaN\n",
      "8942          NaN\n",
      "8943          NaN\n",
      "8944          NaN\n",
      "8945          NaN\n",
      "8946          NaN\n",
      "8947          NaN\n",
      "8948          NaN\n",
      "8949          NaN\n",
      "8950          NaN\n",
      "8951          NaN\n",
      "8952          NaN\n",
      "8953          NaN\n",
      "8954          NaN\n",
      "8955          NaN\n",
      "8956          NaN\n",
      "8957          NaN\n",
      "8958          NaN\n",
      "8959          NaN\n",
      "8960          NaN\n",
      "8961          NaN\n",
      "Length: 8962, dtype: float64\n"
     ]
    }
   ],
   "source": [
    "date_series2 = ((date_series2['End Date'] - date_series2['Date of Birth'])/np.timedelta64(1, 'Y'))\n",
    "date_series2 = date_series2.astype(float)\n",
    "print(date_series2)"
   ]
  },
  {
   "cell_type": "code",
   "execution_count": 210,
   "metadata": {},
   "outputs": [
    {
     "data": {
      "text/html": [
       "<div>\n",
       "<style scoped>\n",
       "    .dataframe tbody tr th:only-of-type {\n",
       "        vertical-align: middle;\n",
       "    }\n",
       "\n",
       "    .dataframe tbody tr th {\n",
       "        vertical-align: top;\n",
       "    }\n",
       "\n",
       "    .dataframe thead th {\n",
       "        text-align: right;\n",
       "    }\n",
       "</style>\n",
       "<table border=\"1\" class=\"dataframe\">\n",
       "  <thead>\n",
       "    <tr style=\"text-align: right;\">\n",
       "      <th></th>\n",
       "      <th>Age</th>\n",
       "    </tr>\n",
       "  </thead>\n",
       "  <tbody>\n",
       "    <tr>\n",
       "      <th>0</th>\n",
       "      <td>61.769920</td>\n",
       "    </tr>\n",
       "    <tr>\n",
       "      <th>1</th>\n",
       "      <td>NaN</td>\n",
       "    </tr>\n",
       "    <tr>\n",
       "      <th>2</th>\n",
       "      <td>57.279752</td>\n",
       "    </tr>\n",
       "    <tr>\n",
       "      <th>3</th>\n",
       "      <td>65.649534</td>\n",
       "    </tr>\n",
       "    <tr>\n",
       "      <th>4</th>\n",
       "      <td>60.168244</td>\n",
       "    </tr>\n",
       "  </tbody>\n",
       "</table>\n",
       "</div>"
      ],
      "text/plain": [
       "         Age\n",
       "0  61.769920\n",
       "1        NaN\n",
       "2  57.279752\n",
       "3  65.649534\n",
       "4  60.168244"
      ]
     },
     "execution_count": 210,
     "metadata": {},
     "output_type": "execute_result"
    }
   ],
   "source": [
    "age_calc = date_series2.to_frame(name='Age')\n",
    "\n",
    "age_calc.head()"
   ]
  },
  {
   "cell_type": "code",
   "execution_count": 211,
   "metadata": {},
   "outputs": [],
   "source": [
    "age_joined = [adj_data, age_calc]\n",
    "\n",
    "adj_data = pd.concat(age_joined, axis=1, join='inner')"
   ]
  },
  {
   "cell_type": "markdown",
   "metadata": {},
   "source": [
    "#### Retirement Reason True = RETIREMENT or FALSE = Any other reason"
   ]
  },
  {
   "cell_type": "code",
   "execution_count": 212,
   "metadata": {},
   "outputs": [],
   "source": [
    "adj_data['Outcome'] = np.where(adj_data['Termination Reason'] != 'RETIREMENT', False, True)"
   ]
  },
  {
   "cell_type": "code",
   "execution_count": 213,
   "metadata": {},
   "outputs": [
    {
     "data": {
      "text/html": [
       "<div>\n",
       "<style scoped>\n",
       "    .dataframe tbody tr th:only-of-type {\n",
       "        vertical-align: middle;\n",
       "    }\n",
       "\n",
       "    .dataframe tbody tr th {\n",
       "        vertical-align: top;\n",
       "    }\n",
       "\n",
       "    .dataframe thead th {\n",
       "        text-align: right;\n",
       "    }\n",
       "</style>\n",
       "<table border=\"1\" class=\"dataframe\">\n",
       "  <thead>\n",
       "    <tr style=\"text-align: right;\">\n",
       "      <th></th>\n",
       "      <th>ID Key</th>\n",
       "      <th>Location</th>\n",
       "      <th>Department</th>\n",
       "      <th>Directorate</th>\n",
       "      <th>Cost Centre</th>\n",
       "      <th>Grade Name</th>\n",
       "      <th>FTE</th>\n",
       "      <th>End Date</th>\n",
       "      <th>Gender</th>\n",
       "      <th>Date of Birth</th>\n",
       "      <th>Pension Scheme</th>\n",
       "      <th>Termination Reason</th>\n",
       "      <th>Date Eligible for Retirement</th>\n",
       "      <th>Retirement Difference</th>\n",
       "      <th>Age</th>\n",
       "      <th>Outcome</th>\n",
       "    </tr>\n",
       "  </thead>\n",
       "  <tbody>\n",
       "    <tr>\n",
       "      <th>0</th>\n",
       "      <td>1</td>\n",
       "      <td>WY</td>\n",
       "      <td>WY CT1</td>\n",
       "      <td>Operations</td>\n",
       "      <td>575</td>\n",
       "      <td>HEO</td>\n",
       "      <td>0.00</td>\n",
       "      <td>20/12/2017</td>\n",
       "      <td>M</td>\n",
       "      <td>14/03/1956</td>\n",
       "      <td>Other</td>\n",
       "      <td>RETIREMENT</td>\n",
       "      <td>14/03/2016</td>\n",
       "      <td>1.768688</td>\n",
       "      <td>61.769920</td>\n",
       "      <td>True</td>\n",
       "    </tr>\n",
       "    <tr>\n",
       "      <th>1</th>\n",
       "      <td>2</td>\n",
       "      <td>DM</td>\n",
       "      <td>Registration Services</td>\n",
       "      <td>Operations</td>\n",
       "      <td>1470</td>\n",
       "      <td>SEO</td>\n",
       "      <td>0.49</td>\n",
       "      <td>NaN</td>\n",
       "      <td>M</td>\n",
       "      <td>22/07/1955</td>\n",
       "      <td>Alpha</td>\n",
       "      <td>NaN</td>\n",
       "      <td>05/06/2021</td>\n",
       "      <td>NaN</td>\n",
       "      <td>NaN</td>\n",
       "      <td>False</td>\n",
       "    </tr>\n",
       "    <tr>\n",
       "      <th>2</th>\n",
       "      <td>3</td>\n",
       "      <td>FY</td>\n",
       "      <td>Fylde</td>\n",
       "      <td>0</td>\n",
       "      <td>250</td>\n",
       "      <td>G6</td>\n",
       "      <td>0.00</td>\n",
       "      <td>31/10/2013</td>\n",
       "      <td>M</td>\n",
       "      <td>21/07/1956</td>\n",
       "      <td>Other</td>\n",
       "      <td>RETIREMENT</td>\n",
       "      <td>21/07/2016</td>\n",
       "      <td>-2.721480</td>\n",
       "      <td>57.279752</td>\n",
       "      <td>True</td>\n",
       "    </tr>\n",
       "    <tr>\n",
       "      <th>3</th>\n",
       "      <td>4</td>\n",
       "      <td>PB</td>\n",
       "      <td>Registration Services</td>\n",
       "      <td>Operations</td>\n",
       "      <td>1470</td>\n",
       "      <td>HEO</td>\n",
       "      <td>0.49</td>\n",
       "      <td>29/04/2021</td>\n",
       "      <td>M</td>\n",
       "      <td>09/05/1955</td>\n",
       "      <td>Alpha</td>\n",
       "      <td>RESIGNATION</td>\n",
       "      <td>05/04/2021</td>\n",
       "      <td>-0.013690</td>\n",
       "      <td>65.649534</td>\n",
       "      <td>False</td>\n",
       "    </tr>\n",
       "    <tr>\n",
       "      <th>4</th>\n",
       "      <td>5</td>\n",
       "      <td>GL</td>\n",
       "      <td>Gloucester Office</td>\n",
       "      <td>0</td>\n",
       "      <td>175</td>\n",
       "      <td>HEO</td>\n",
       "      <td>0.00</td>\n",
       "      <td>31/05/2014</td>\n",
       "      <td>M</td>\n",
       "      <td>31/03/1954</td>\n",
       "      <td>Other</td>\n",
       "      <td>RETIREMENT</td>\n",
       "      <td>31/03/2014</td>\n",
       "      <td>0.167012</td>\n",
       "      <td>60.168244</td>\n",
       "      <td>True</td>\n",
       "    </tr>\n",
       "  </tbody>\n",
       "</table>\n",
       "</div>"
      ],
      "text/plain": [
       "   ID Key Location             Department Directorate  Cost Centre Grade Name  \\\n",
       "0       1       WY                 WY CT1  Operations          575        HEO   \n",
       "1       2       DM  Registration Services  Operations         1470        SEO   \n",
       "2       3       FY                  Fylde           0          250         G6   \n",
       "3       4       PB  Registration Services  Operations         1470        HEO   \n",
       "4       5       GL      Gloucester Office           0          175        HEO   \n",
       "\n",
       "    FTE    End Date Gender Date of Birth Pension Scheme Termination Reason  \\\n",
       "0  0.00  20/12/2017      M    14/03/1956          Other         RETIREMENT   \n",
       "1  0.49         NaN      M    22/07/1955          Alpha                NaN   \n",
       "2  0.00  31/10/2013      M    21/07/1956          Other         RETIREMENT   \n",
       "3  0.49  29/04/2021      M    09/05/1955          Alpha        RESIGNATION   \n",
       "4  0.00  31/05/2014      M    31/03/1954          Other         RETIREMENT   \n",
       "\n",
       "  Date Eligible for Retirement  Retirement Difference        Age  Outcome  \n",
       "0                   14/03/2016               1.768688  61.769920     True  \n",
       "1                   05/06/2021                    NaN        NaN    False  \n",
       "2                   21/07/2016              -2.721480  57.279752     True  \n",
       "3                   05/04/2021              -0.013690  65.649534    False  \n",
       "4                   31/03/2014               0.167012  60.168244     True  "
      ]
     },
     "execution_count": 213,
     "metadata": {},
     "output_type": "execute_result"
    }
   ],
   "source": [
    "adj_data.head()"
   ]
  },
  {
   "cell_type": "code",
   "execution_count": 214,
   "metadata": {},
   "outputs": [
    {
     "data": {
      "text/plain": [
       "(8962, 16)"
      ]
     },
     "execution_count": 214,
     "metadata": {},
     "output_type": "execute_result"
    }
   ],
   "source": [
    "len(adj_data)\n",
    "adj_data.shape"
   ]
  },
  {
   "cell_type": "code",
   "execution_count": 215,
   "metadata": {},
   "outputs": [
    {
     "data": {
      "text/plain": [
       "ID Key                            int64\n",
       "Location                         object\n",
       "Department                       object\n",
       "Directorate                      object\n",
       "Cost Centre                       int64\n",
       "Grade Name                       object\n",
       "FTE                             float64\n",
       "End Date                         object\n",
       "Gender                           object\n",
       "Date of Birth                    object\n",
       "Pension Scheme                   object\n",
       "Termination Reason               object\n",
       "Date Eligible for Retirement     object\n",
       "Retirement Difference           float64\n",
       "Age                             float64\n",
       "Outcome                            bool\n",
       "dtype: object"
      ]
     },
     "execution_count": 215,
     "metadata": {},
     "output_type": "execute_result"
    }
   ],
   "source": [
    "adj_data.dtypes"
   ]
  },
  {
   "cell_type": "markdown",
   "metadata": {},
   "source": [
    "##### Reviewing NULL data rows and removing them"
   ]
  },
  {
   "cell_type": "code",
   "execution_count": 216,
   "metadata": {},
   "outputs": [
    {
     "name": "stdout",
     "output_type": "stream",
     "text": [
      "<class 'pandas.core.frame.DataFrame'>\n",
      "RangeIndex: 8962 entries, 0 to 8961\n",
      "Data columns (total 16 columns):\n",
      "ID Key                          8962 non-null int64\n",
      "Location                        8962 non-null object\n",
      "Department                      8962 non-null object\n",
      "Directorate                     8962 non-null object\n",
      "Cost Centre                     8962 non-null int64\n",
      "Grade Name                      8962 non-null object\n",
      "FTE                             8962 non-null float64\n",
      "End Date                        1739 non-null object\n",
      "Gender                          8962 non-null object\n",
      "Date of Birth                   8962 non-null object\n",
      "Pension Scheme                  8962 non-null object\n",
      "Termination Reason              1739 non-null object\n",
      "Date Eligible for Retirement    8954 non-null object\n",
      "Retirement Difference           1738 non-null float64\n",
      "Age                             1739 non-null float64\n",
      "Outcome                         8962 non-null bool\n",
      "dtypes: bool(1), float64(3), int64(2), object(10)\n",
      "memory usage: 1.0+ MB\n"
     ]
    }
   ],
   "source": [
    "adj_data.info()"
   ]
  },
  {
   "cell_type": "markdown",
   "metadata": {},
   "source": [
    "After reviewing the data I do not need to worry about using .dropna method as the null rows will represent employees that are still active."
   ]
  },
  {
   "cell_type": "code",
   "execution_count": 217,
   "metadata": {},
   "outputs": [],
   "source": [
    "dropped_rows = adj_data.dropna()"
   ]
  },
  {
   "cell_type": "code",
   "execution_count": 218,
   "metadata": {},
   "outputs": [
    {
     "data": {
      "text/html": [
       "<div>\n",
       "<style scoped>\n",
       "    .dataframe tbody tr th:only-of-type {\n",
       "        vertical-align: middle;\n",
       "    }\n",
       "\n",
       "    .dataframe tbody tr th {\n",
       "        vertical-align: top;\n",
       "    }\n",
       "\n",
       "    .dataframe thead th {\n",
       "        text-align: right;\n",
       "    }\n",
       "</style>\n",
       "<table border=\"1\" class=\"dataframe\">\n",
       "  <thead>\n",
       "    <tr style=\"text-align: right;\">\n",
       "      <th></th>\n",
       "      <th>ID Key</th>\n",
       "      <th>Location</th>\n",
       "      <th>Department</th>\n",
       "      <th>Directorate</th>\n",
       "      <th>Cost Centre</th>\n",
       "      <th>Grade Name</th>\n",
       "      <th>FTE</th>\n",
       "      <th>End Date</th>\n",
       "      <th>Gender</th>\n",
       "      <th>Date of Birth</th>\n",
       "      <th>Pension Scheme</th>\n",
       "      <th>Termination Reason</th>\n",
       "      <th>Date Eligible for Retirement</th>\n",
       "      <th>Retirement Difference</th>\n",
       "      <th>Age</th>\n",
       "      <th>Outcome</th>\n",
       "    </tr>\n",
       "  </thead>\n",
       "  <tbody>\n",
       "    <tr>\n",
       "      <th>0</th>\n",
       "      <td>1</td>\n",
       "      <td>WY</td>\n",
       "      <td>WY CT1</td>\n",
       "      <td>Operations</td>\n",
       "      <td>575</td>\n",
       "      <td>HEO</td>\n",
       "      <td>0.00</td>\n",
       "      <td>20/12/2017</td>\n",
       "      <td>M</td>\n",
       "      <td>14/03/1956</td>\n",
       "      <td>Other</td>\n",
       "      <td>RETIREMENT</td>\n",
       "      <td>14/03/2016</td>\n",
       "      <td>1.768688</td>\n",
       "      <td>61.769920</td>\n",
       "      <td>True</td>\n",
       "    </tr>\n",
       "    <tr>\n",
       "      <th>2</th>\n",
       "      <td>3</td>\n",
       "      <td>FY</td>\n",
       "      <td>Fylde</td>\n",
       "      <td>0</td>\n",
       "      <td>250</td>\n",
       "      <td>G6</td>\n",
       "      <td>0.00</td>\n",
       "      <td>31/10/2013</td>\n",
       "      <td>M</td>\n",
       "      <td>21/07/1956</td>\n",
       "      <td>Other</td>\n",
       "      <td>RETIREMENT</td>\n",
       "      <td>21/07/2016</td>\n",
       "      <td>-2.721480</td>\n",
       "      <td>57.279752</td>\n",
       "      <td>True</td>\n",
       "    </tr>\n",
       "    <tr>\n",
       "      <th>3</th>\n",
       "      <td>4</td>\n",
       "      <td>PB</td>\n",
       "      <td>Registration Services</td>\n",
       "      <td>Operations</td>\n",
       "      <td>1470</td>\n",
       "      <td>HEO</td>\n",
       "      <td>0.49</td>\n",
       "      <td>29/04/2021</td>\n",
       "      <td>M</td>\n",
       "      <td>09/05/1955</td>\n",
       "      <td>Alpha</td>\n",
       "      <td>RESIGNATION</td>\n",
       "      <td>05/04/2021</td>\n",
       "      <td>-0.013690</td>\n",
       "      <td>65.649534</td>\n",
       "      <td>False</td>\n",
       "    </tr>\n",
       "    <tr>\n",
       "      <th>4</th>\n",
       "      <td>5</td>\n",
       "      <td>GL</td>\n",
       "      <td>Gloucester Office</td>\n",
       "      <td>0</td>\n",
       "      <td>175</td>\n",
       "      <td>HEO</td>\n",
       "      <td>0.00</td>\n",
       "      <td>31/05/2014</td>\n",
       "      <td>M</td>\n",
       "      <td>31/03/1954</td>\n",
       "      <td>Other</td>\n",
       "      <td>RETIREMENT</td>\n",
       "      <td>31/03/2014</td>\n",
       "      <td>0.167012</td>\n",
       "      <td>60.168244</td>\n",
       "      <td>True</td>\n",
       "    </tr>\n",
       "    <tr>\n",
       "      <th>5</th>\n",
       "      <td>6</td>\n",
       "      <td>FY</td>\n",
       "      <td>Fylde</td>\n",
       "      <td>0</td>\n",
       "      <td>250</td>\n",
       "      <td>SEO</td>\n",
       "      <td>0.00</td>\n",
       "      <td>07/06/2013</td>\n",
       "      <td>M</td>\n",
       "      <td>07/06/1953</td>\n",
       "      <td>Other</td>\n",
       "      <td>RETIREMENT</td>\n",
       "      <td>07/06/2013</td>\n",
       "      <td>0.000000</td>\n",
       "      <td>60.001232</td>\n",
       "      <td>True</td>\n",
       "    </tr>\n",
       "  </tbody>\n",
       "</table>\n",
       "</div>"
      ],
      "text/plain": [
       "   ID Key Location             Department Directorate  Cost Centre Grade Name  \\\n",
       "0       1       WY                 WY CT1  Operations          575        HEO   \n",
       "2       3       FY                  Fylde           0          250         G6   \n",
       "3       4       PB  Registration Services  Operations         1470        HEO   \n",
       "4       5       GL      Gloucester Office           0          175        HEO   \n",
       "5       6       FY                  Fylde           0          250        SEO   \n",
       "\n",
       "    FTE    End Date Gender Date of Birth Pension Scheme Termination Reason  \\\n",
       "0  0.00  20/12/2017      M    14/03/1956          Other         RETIREMENT   \n",
       "2  0.00  31/10/2013      M    21/07/1956          Other         RETIREMENT   \n",
       "3  0.49  29/04/2021      M    09/05/1955          Alpha        RESIGNATION   \n",
       "4  0.00  31/05/2014      M    31/03/1954          Other         RETIREMENT   \n",
       "5  0.00  07/06/2013      M    07/06/1953          Other         RETIREMENT   \n",
       "\n",
       "  Date Eligible for Retirement  Retirement Difference        Age  Outcome  \n",
       "0                   14/03/2016               1.768688  61.769920     True  \n",
       "2                   21/07/2016              -2.721480  57.279752     True  \n",
       "3                   05/04/2021              -0.013690  65.649534    False  \n",
       "4                   31/03/2014               0.167012  60.168244     True  \n",
       "5                   07/06/2013               0.000000  60.001232     True  "
      ]
     },
     "execution_count": 218,
     "metadata": {},
     "output_type": "execute_result"
    }
   ],
   "source": [
    "dropped_rows.head()"
   ]
  },
  {
   "cell_type": "code",
   "execution_count": 219,
   "metadata": {},
   "outputs": [
    {
     "data": {
      "text/plain": [
       "(1738, 16)"
      ]
     },
     "execution_count": 219,
     "metadata": {},
     "output_type": "execute_result"
    }
   ],
   "source": [
    "len(dropped_rows)\n",
    "dropped_rows.shape"
   ]
  },
  {
   "cell_type": "code",
   "execution_count": 220,
   "metadata": {},
   "outputs": [
    {
     "data": {
      "text/plain": [
       "ID Key                          False\n",
       "Location                        False\n",
       "Department                      False\n",
       "Directorate                     False\n",
       "Cost Centre                     False\n",
       "Grade Name                      False\n",
       "FTE                             False\n",
       "End Date                        False\n",
       "Gender                          False\n",
       "Date of Birth                   False\n",
       "Pension Scheme                  False\n",
       "Termination Reason              False\n",
       "Date Eligible for Retirement    False\n",
       "Retirement Difference           False\n",
       "Age                             False\n",
       "Outcome                         False\n",
       "dtype: bool"
      ]
     },
     "execution_count": 220,
     "metadata": {},
     "output_type": "execute_result"
    }
   ],
   "source": [
    "dropped_rows.isnull().any()"
   ]
  },
  {
   "cell_type": "markdown",
   "metadata": {},
   "source": [
    "I will drop the fields Department, Directorate, Cost Centre and FTE as they relate more to enable planning after the modelling has been completed and also contain a mix of data that will be impossible to clean for consistency given the movement of cost centres between Directorates."
   ]
  },
  {
   "cell_type": "code",
   "execution_count": 221,
   "metadata": {},
   "outputs": [],
   "source": [
    "reduced_data = dropped_rows.drop(columns=['Department','Directorate','Cost Centre','FTE'])"
   ]
  },
  {
   "cell_type": "code",
   "execution_count": 222,
   "metadata": {},
   "outputs": [
    {
     "data": {
      "text/html": [
       "<div>\n",
       "<style scoped>\n",
       "    .dataframe tbody tr th:only-of-type {\n",
       "        vertical-align: middle;\n",
       "    }\n",
       "\n",
       "    .dataframe tbody tr th {\n",
       "        vertical-align: top;\n",
       "    }\n",
       "\n",
       "    .dataframe thead th {\n",
       "        text-align: right;\n",
       "    }\n",
       "</style>\n",
       "<table border=\"1\" class=\"dataframe\">\n",
       "  <thead>\n",
       "    <tr style=\"text-align: right;\">\n",
       "      <th></th>\n",
       "      <th>ID Key</th>\n",
       "      <th>Location</th>\n",
       "      <th>Grade Name</th>\n",
       "      <th>End Date</th>\n",
       "      <th>Gender</th>\n",
       "      <th>Date of Birth</th>\n",
       "      <th>Pension Scheme</th>\n",
       "      <th>Termination Reason</th>\n",
       "      <th>Date Eligible for Retirement</th>\n",
       "      <th>Retirement Difference</th>\n",
       "      <th>Age</th>\n",
       "      <th>Outcome</th>\n",
       "    </tr>\n",
       "  </thead>\n",
       "  <tbody>\n",
       "    <tr>\n",
       "      <th>0</th>\n",
       "      <td>1</td>\n",
       "      <td>WY</td>\n",
       "      <td>HEO</td>\n",
       "      <td>20/12/2017</td>\n",
       "      <td>M</td>\n",
       "      <td>14/03/1956</td>\n",
       "      <td>Other</td>\n",
       "      <td>RETIREMENT</td>\n",
       "      <td>14/03/2016</td>\n",
       "      <td>1.768688</td>\n",
       "      <td>61.769920</td>\n",
       "      <td>True</td>\n",
       "    </tr>\n",
       "    <tr>\n",
       "      <th>2</th>\n",
       "      <td>3</td>\n",
       "      <td>FY</td>\n",
       "      <td>G6</td>\n",
       "      <td>31/10/2013</td>\n",
       "      <td>M</td>\n",
       "      <td>21/07/1956</td>\n",
       "      <td>Other</td>\n",
       "      <td>RETIREMENT</td>\n",
       "      <td>21/07/2016</td>\n",
       "      <td>-2.721480</td>\n",
       "      <td>57.279752</td>\n",
       "      <td>True</td>\n",
       "    </tr>\n",
       "    <tr>\n",
       "      <th>3</th>\n",
       "      <td>4</td>\n",
       "      <td>PB</td>\n",
       "      <td>HEO</td>\n",
       "      <td>29/04/2021</td>\n",
       "      <td>M</td>\n",
       "      <td>09/05/1955</td>\n",
       "      <td>Alpha</td>\n",
       "      <td>RESIGNATION</td>\n",
       "      <td>05/04/2021</td>\n",
       "      <td>-0.013690</td>\n",
       "      <td>65.649534</td>\n",
       "      <td>False</td>\n",
       "    </tr>\n",
       "    <tr>\n",
       "      <th>4</th>\n",
       "      <td>5</td>\n",
       "      <td>GL</td>\n",
       "      <td>HEO</td>\n",
       "      <td>31/05/2014</td>\n",
       "      <td>M</td>\n",
       "      <td>31/03/1954</td>\n",
       "      <td>Other</td>\n",
       "      <td>RETIREMENT</td>\n",
       "      <td>31/03/2014</td>\n",
       "      <td>0.167012</td>\n",
       "      <td>60.168244</td>\n",
       "      <td>True</td>\n",
       "    </tr>\n",
       "    <tr>\n",
       "      <th>5</th>\n",
       "      <td>6</td>\n",
       "      <td>FY</td>\n",
       "      <td>SEO</td>\n",
       "      <td>07/06/2013</td>\n",
       "      <td>M</td>\n",
       "      <td>07/06/1953</td>\n",
       "      <td>Other</td>\n",
       "      <td>RETIREMENT</td>\n",
       "      <td>07/06/2013</td>\n",
       "      <td>0.000000</td>\n",
       "      <td>60.001232</td>\n",
       "      <td>True</td>\n",
       "    </tr>\n",
       "  </tbody>\n",
       "</table>\n",
       "</div>"
      ],
      "text/plain": [
       "   ID Key Location Grade Name    End Date Gender Date of Birth Pension Scheme  \\\n",
       "0       1       WY        HEO  20/12/2017      M    14/03/1956          Other   \n",
       "2       3       FY         G6  31/10/2013      M    21/07/1956          Other   \n",
       "3       4       PB        HEO  29/04/2021      M    09/05/1955          Alpha   \n",
       "4       5       GL        HEO  31/05/2014      M    31/03/1954          Other   \n",
       "5       6       FY        SEO  07/06/2013      M    07/06/1953          Other   \n",
       "\n",
       "  Termination Reason Date Eligible for Retirement  Retirement Difference  \\\n",
       "0         RETIREMENT                   14/03/2016               1.768688   \n",
       "2         RETIREMENT                   21/07/2016              -2.721480   \n",
       "3        RESIGNATION                   05/04/2021              -0.013690   \n",
       "4         RETIREMENT                   31/03/2014               0.167012   \n",
       "5         RETIREMENT                   07/06/2013               0.000000   \n",
       "\n",
       "         Age  Outcome  \n",
       "0  61.769920     True  \n",
       "2  57.279752     True  \n",
       "3  65.649534    False  \n",
       "4  60.168244     True  \n",
       "5  60.001232     True  "
      ]
     },
     "execution_count": 222,
     "metadata": {},
     "output_type": "execute_result"
    }
   ],
   "source": [
    "reduced_data.head()"
   ]
  },
  {
   "cell_type": "code",
   "execution_count": 223,
   "metadata": {},
   "outputs": [
    {
     "data": {
      "text/plain": [
       "(1738, 12)"
      ]
     },
     "execution_count": 223,
     "metadata": {},
     "output_type": "execute_result"
    }
   ],
   "source": [
    "len(reduced_data)\n",
    "reduced_data.shape"
   ]
  },
  {
   "cell_type": "code",
   "execution_count": 224,
   "metadata": {},
   "outputs": [
    {
     "data": {
      "text/plain": [
       "ID Key                            int64\n",
       "Location                         object\n",
       "Grade Name                       object\n",
       "End Date                         object\n",
       "Gender                           object\n",
       "Date of Birth                    object\n",
       "Pension Scheme                   object\n",
       "Termination Reason               object\n",
       "Date Eligible for Retirement     object\n",
       "Retirement Difference           float64\n",
       "Age                             float64\n",
       "Outcome                            bool\n",
       "dtype: object"
      ]
     },
     "execution_count": 224,
     "metadata": {},
     "output_type": "execute_result"
    }
   ],
   "source": [
    "reduced_data.dtypes"
   ]
  },
  {
   "cell_type": "markdown",
   "metadata": {},
   "source": [
    "#### Adjusting some DataFrame columns from object to category\n",
    "1. Location\n",
    "1. Grade Name\n",
    "1. Gender\n",
    "1. Pension Scheme"
   ]
  },
  {
   "cell_type": "markdown",
   "metadata": {},
   "source": [
    "##### Location"
   ]
  },
  {
   "cell_type": "code",
   "execution_count": 225,
   "metadata": {},
   "outputs": [
    {
     "data": {
      "text/plain": [
       "ID Key                             int64\n",
       "Location                        category\n",
       "Grade Name                        object\n",
       "End Date                          object\n",
       "Gender                            object\n",
       "Date of Birth                     object\n",
       "Pension Scheme                    object\n",
       "Termination Reason                object\n",
       "Date Eligible for Retirement      object\n",
       "Retirement Difference            float64\n",
       "Age                              float64\n",
       "Outcome                             bool\n",
       "dtype: object"
      ]
     },
     "execution_count": 225,
     "metadata": {},
     "output_type": "execute_result"
    }
   ],
   "source": [
    "reduced_data['Location'] = reduced_data['Location'].astype('category')\n",
    "reduced_data.dtypes"
   ]
  },
  {
   "cell_type": "code",
   "execution_count": 226,
   "metadata": {},
   "outputs": [
    {
     "data": {
      "text/html": [
       "<div>\n",
       "<style scoped>\n",
       "    .dataframe tbody tr th:only-of-type {\n",
       "        vertical-align: middle;\n",
       "    }\n",
       "\n",
       "    .dataframe tbody tr th {\n",
       "        vertical-align: top;\n",
       "    }\n",
       "\n",
       "    .dataframe thead th {\n",
       "        text-align: right;\n",
       "    }\n",
       "</style>\n",
       "<table border=\"1\" class=\"dataframe\">\n",
       "  <thead>\n",
       "    <tr style=\"text-align: right;\">\n",
       "      <th></th>\n",
       "      <th>ID Key</th>\n",
       "      <th>Location</th>\n",
       "      <th>Grade Name</th>\n",
       "      <th>End Date</th>\n",
       "      <th>Gender</th>\n",
       "      <th>Date of Birth</th>\n",
       "      <th>Pension Scheme</th>\n",
       "      <th>Termination Reason</th>\n",
       "      <th>Date Eligible for Retirement</th>\n",
       "      <th>Retirement Difference</th>\n",
       "      <th>Age</th>\n",
       "      <th>Outcome</th>\n",
       "      <th>Location_cat</th>\n",
       "    </tr>\n",
       "  </thead>\n",
       "  <tbody>\n",
       "    <tr>\n",
       "      <th>0</th>\n",
       "      <td>1</td>\n",
       "      <td>WY</td>\n",
       "      <td>HEO</td>\n",
       "      <td>20/12/2017</td>\n",
       "      <td>M</td>\n",
       "      <td>14/03/1956</td>\n",
       "      <td>Other</td>\n",
       "      <td>RETIREMENT</td>\n",
       "      <td>14/03/2016</td>\n",
       "      <td>1.768688</td>\n",
       "      <td>61.769920</td>\n",
       "      <td>True</td>\n",
       "      <td>14</td>\n",
       "    </tr>\n",
       "    <tr>\n",
       "      <th>2</th>\n",
       "      <td>3</td>\n",
       "      <td>FY</td>\n",
       "      <td>G6</td>\n",
       "      <td>31/10/2013</td>\n",
       "      <td>M</td>\n",
       "      <td>21/07/1956</td>\n",
       "      <td>Other</td>\n",
       "      <td>RETIREMENT</td>\n",
       "      <td>21/07/2016</td>\n",
       "      <td>-2.721480</td>\n",
       "      <td>57.279752</td>\n",
       "      <td>True</td>\n",
       "      <td>5</td>\n",
       "    </tr>\n",
       "    <tr>\n",
       "      <th>3</th>\n",
       "      <td>4</td>\n",
       "      <td>PB</td>\n",
       "      <td>HEO</td>\n",
       "      <td>29/04/2021</td>\n",
       "      <td>M</td>\n",
       "      <td>09/05/1955</td>\n",
       "      <td>Alpha</td>\n",
       "      <td>RESIGNATION</td>\n",
       "      <td>05/04/2021</td>\n",
       "      <td>-0.013690</td>\n",
       "      <td>65.649534</td>\n",
       "      <td>False</td>\n",
       "      <td>10</td>\n",
       "    </tr>\n",
       "    <tr>\n",
       "      <th>4</th>\n",
       "      <td>5</td>\n",
       "      <td>GL</td>\n",
       "      <td>HEO</td>\n",
       "      <td>31/05/2014</td>\n",
       "      <td>M</td>\n",
       "      <td>31/03/1954</td>\n",
       "      <td>Other</td>\n",
       "      <td>RETIREMENT</td>\n",
       "      <td>31/03/2014</td>\n",
       "      <td>0.167012</td>\n",
       "      <td>60.168244</td>\n",
       "      <td>True</td>\n",
       "      <td>6</td>\n",
       "    </tr>\n",
       "    <tr>\n",
       "      <th>5</th>\n",
       "      <td>6</td>\n",
       "      <td>FY</td>\n",
       "      <td>SEO</td>\n",
       "      <td>07/06/2013</td>\n",
       "      <td>M</td>\n",
       "      <td>07/06/1953</td>\n",
       "      <td>Other</td>\n",
       "      <td>RETIREMENT</td>\n",
       "      <td>07/06/2013</td>\n",
       "      <td>0.000000</td>\n",
       "      <td>60.001232</td>\n",
       "      <td>True</td>\n",
       "      <td>5</td>\n",
       "    </tr>\n",
       "  </tbody>\n",
       "</table>\n",
       "</div>"
      ],
      "text/plain": [
       "   ID Key Location Grade Name    End Date Gender Date of Birth Pension Scheme  \\\n",
       "0       1       WY        HEO  20/12/2017      M    14/03/1956          Other   \n",
       "2       3       FY         G6  31/10/2013      M    21/07/1956          Other   \n",
       "3       4       PB        HEO  29/04/2021      M    09/05/1955          Alpha   \n",
       "4       5       GL        HEO  31/05/2014      M    31/03/1954          Other   \n",
       "5       6       FY        SEO  07/06/2013      M    07/06/1953          Other   \n",
       "\n",
       "  Termination Reason Date Eligible for Retirement  Retirement Difference  \\\n",
       "0         RETIREMENT                   14/03/2016               1.768688   \n",
       "2         RETIREMENT                   21/07/2016              -2.721480   \n",
       "3        RESIGNATION                   05/04/2021              -0.013690   \n",
       "4         RETIREMENT                   31/03/2014               0.167012   \n",
       "5         RETIREMENT                   07/06/2013               0.000000   \n",
       "\n",
       "         Age  Outcome  Location_cat  \n",
       "0  61.769920     True            14  \n",
       "2  57.279752     True             5  \n",
       "3  65.649534    False            10  \n",
       "4  60.168244     True             6  \n",
       "5  60.001232     True             5  "
      ]
     },
     "execution_count": 226,
     "metadata": {},
     "output_type": "execute_result"
    }
   ],
   "source": [
    "reduced_data['Location_cat'] = reduced_data['Location'].cat.codes\n",
    "reduced_data.head()"
   ]
  },
  {
   "cell_type": "markdown",
   "metadata": {},
   "source": [
    "#### Grade Name"
   ]
  },
  {
   "cell_type": "code",
   "execution_count": 227,
   "metadata": {},
   "outputs": [
    {
     "data": {
      "text/plain": [
       "ID Key                             int64\n",
       "Location                        category\n",
       "Grade Name                      category\n",
       "End Date                          object\n",
       "Gender                            object\n",
       "Date of Birth                     object\n",
       "Pension Scheme                    object\n",
       "Termination Reason                object\n",
       "Date Eligible for Retirement      object\n",
       "Retirement Difference            float64\n",
       "Age                              float64\n",
       "Outcome                             bool\n",
       "Location_cat                        int8\n",
       "dtype: object"
      ]
     },
     "execution_count": 227,
     "metadata": {},
     "output_type": "execute_result"
    }
   ],
   "source": [
    "reduced_data['Grade Name'] = reduced_data['Grade Name'].astype('category')\n",
    "reduced_data.dtypes"
   ]
  },
  {
   "cell_type": "code",
   "execution_count": 228,
   "metadata": {},
   "outputs": [
    {
     "data": {
      "text/html": [
       "<div>\n",
       "<style scoped>\n",
       "    .dataframe tbody tr th:only-of-type {\n",
       "        vertical-align: middle;\n",
       "    }\n",
       "\n",
       "    .dataframe tbody tr th {\n",
       "        vertical-align: top;\n",
       "    }\n",
       "\n",
       "    .dataframe thead th {\n",
       "        text-align: right;\n",
       "    }\n",
       "</style>\n",
       "<table border=\"1\" class=\"dataframe\">\n",
       "  <thead>\n",
       "    <tr style=\"text-align: right;\">\n",
       "      <th></th>\n",
       "      <th>ID Key</th>\n",
       "      <th>Location</th>\n",
       "      <th>Grade Name</th>\n",
       "      <th>End Date</th>\n",
       "      <th>Gender</th>\n",
       "      <th>Date of Birth</th>\n",
       "      <th>Pension Scheme</th>\n",
       "      <th>Termination Reason</th>\n",
       "      <th>Date Eligible for Retirement</th>\n",
       "      <th>Retirement Difference</th>\n",
       "      <th>Age</th>\n",
       "      <th>Outcome</th>\n",
       "      <th>Location_cat</th>\n",
       "      <th>Grade Name_cat</th>\n",
       "    </tr>\n",
       "  </thead>\n",
       "  <tbody>\n",
       "    <tr>\n",
       "      <th>0</th>\n",
       "      <td>1</td>\n",
       "      <td>WY</td>\n",
       "      <td>HEO</td>\n",
       "      <td>20/12/2017</td>\n",
       "      <td>M</td>\n",
       "      <td>14/03/1956</td>\n",
       "      <td>Other</td>\n",
       "      <td>RETIREMENT</td>\n",
       "      <td>14/03/2016</td>\n",
       "      <td>1.768688</td>\n",
       "      <td>61.769920</td>\n",
       "      <td>True</td>\n",
       "      <td>14</td>\n",
       "      <td>8</td>\n",
       "    </tr>\n",
       "    <tr>\n",
       "      <th>2</th>\n",
       "      <td>3</td>\n",
       "      <td>FY</td>\n",
       "      <td>G6</td>\n",
       "      <td>31/10/2013</td>\n",
       "      <td>M</td>\n",
       "      <td>21/07/1956</td>\n",
       "      <td>Other</td>\n",
       "      <td>RETIREMENT</td>\n",
       "      <td>21/07/2016</td>\n",
       "      <td>-2.721480</td>\n",
       "      <td>57.279752</td>\n",
       "      <td>True</td>\n",
       "      <td>5</td>\n",
       "      <td>5</td>\n",
       "    </tr>\n",
       "    <tr>\n",
       "      <th>3</th>\n",
       "      <td>4</td>\n",
       "      <td>PB</td>\n",
       "      <td>HEO</td>\n",
       "      <td>29/04/2021</td>\n",
       "      <td>M</td>\n",
       "      <td>09/05/1955</td>\n",
       "      <td>Alpha</td>\n",
       "      <td>RESIGNATION</td>\n",
       "      <td>05/04/2021</td>\n",
       "      <td>-0.013690</td>\n",
       "      <td>65.649534</td>\n",
       "      <td>False</td>\n",
       "      <td>10</td>\n",
       "      <td>8</td>\n",
       "    </tr>\n",
       "    <tr>\n",
       "      <th>4</th>\n",
       "      <td>5</td>\n",
       "      <td>GL</td>\n",
       "      <td>HEO</td>\n",
       "      <td>31/05/2014</td>\n",
       "      <td>M</td>\n",
       "      <td>31/03/1954</td>\n",
       "      <td>Other</td>\n",
       "      <td>RETIREMENT</td>\n",
       "      <td>31/03/2014</td>\n",
       "      <td>0.167012</td>\n",
       "      <td>60.168244</td>\n",
       "      <td>True</td>\n",
       "      <td>6</td>\n",
       "      <td>8</td>\n",
       "    </tr>\n",
       "    <tr>\n",
       "      <th>5</th>\n",
       "      <td>6</td>\n",
       "      <td>FY</td>\n",
       "      <td>SEO</td>\n",
       "      <td>07/06/2013</td>\n",
       "      <td>M</td>\n",
       "      <td>07/06/1953</td>\n",
       "      <td>Other</td>\n",
       "      <td>RETIREMENT</td>\n",
       "      <td>07/06/2013</td>\n",
       "      <td>0.000000</td>\n",
       "      <td>60.001232</td>\n",
       "      <td>True</td>\n",
       "      <td>5</td>\n",
       "      <td>11</td>\n",
       "    </tr>\n",
       "  </tbody>\n",
       "</table>\n",
       "</div>"
      ],
      "text/plain": [
       "   ID Key Location Grade Name    End Date Gender Date of Birth Pension Scheme  \\\n",
       "0       1       WY        HEO  20/12/2017      M    14/03/1956          Other   \n",
       "2       3       FY         G6  31/10/2013      M    21/07/1956          Other   \n",
       "3       4       PB        HEO  29/04/2021      M    09/05/1955          Alpha   \n",
       "4       5       GL        HEO  31/05/2014      M    31/03/1954          Other   \n",
       "5       6       FY        SEO  07/06/2013      M    07/06/1953          Other   \n",
       "\n",
       "  Termination Reason Date Eligible for Retirement  Retirement Difference  \\\n",
       "0         RETIREMENT                   14/03/2016               1.768688   \n",
       "2         RETIREMENT                   21/07/2016              -2.721480   \n",
       "3        RESIGNATION                   05/04/2021              -0.013690   \n",
       "4         RETIREMENT                   31/03/2014               0.167012   \n",
       "5         RETIREMENT                   07/06/2013               0.000000   \n",
       "\n",
       "         Age  Outcome  Location_cat  Grade Name_cat  \n",
       "0  61.769920     True            14               8  \n",
       "2  57.279752     True             5               5  \n",
       "3  65.649534    False            10               8  \n",
       "4  60.168244     True             6               8  \n",
       "5  60.001232     True             5              11  "
      ]
     },
     "execution_count": 228,
     "metadata": {},
     "output_type": "execute_result"
    }
   ],
   "source": [
    "reduced_data['Grade Name_cat'] = reduced_data['Grade Name'].cat.codes\n",
    "reduced_data.head()"
   ]
  },
  {
   "cell_type": "markdown",
   "metadata": {},
   "source": [
    "#### Gender"
   ]
  },
  {
   "cell_type": "code",
   "execution_count": 229,
   "metadata": {},
   "outputs": [
    {
     "data": {
      "text/plain": [
       "ID Key                             int64\n",
       "Location                        category\n",
       "Grade Name                      category\n",
       "End Date                          object\n",
       "Gender                          category\n",
       "Date of Birth                     object\n",
       "Pension Scheme                    object\n",
       "Termination Reason                object\n",
       "Date Eligible for Retirement      object\n",
       "Retirement Difference            float64\n",
       "Age                              float64\n",
       "Outcome                             bool\n",
       "Location_cat                        int8\n",
       "Grade Name_cat                      int8\n",
       "dtype: object"
      ]
     },
     "execution_count": 229,
     "metadata": {},
     "output_type": "execute_result"
    }
   ],
   "source": [
    "reduced_data['Gender'] = reduced_data['Gender'].astype('category')\n",
    "reduced_data.dtypes"
   ]
  },
  {
   "cell_type": "code",
   "execution_count": 230,
   "metadata": {},
   "outputs": [
    {
     "data": {
      "text/html": [
       "<div>\n",
       "<style scoped>\n",
       "    .dataframe tbody tr th:only-of-type {\n",
       "        vertical-align: middle;\n",
       "    }\n",
       "\n",
       "    .dataframe tbody tr th {\n",
       "        vertical-align: top;\n",
       "    }\n",
       "\n",
       "    .dataframe thead th {\n",
       "        text-align: right;\n",
       "    }\n",
       "</style>\n",
       "<table border=\"1\" class=\"dataframe\">\n",
       "  <thead>\n",
       "    <tr style=\"text-align: right;\">\n",
       "      <th></th>\n",
       "      <th>ID Key</th>\n",
       "      <th>Location</th>\n",
       "      <th>Grade Name</th>\n",
       "      <th>End Date</th>\n",
       "      <th>Gender</th>\n",
       "      <th>Date of Birth</th>\n",
       "      <th>Pension Scheme</th>\n",
       "      <th>Termination Reason</th>\n",
       "      <th>Date Eligible for Retirement</th>\n",
       "      <th>Retirement Difference</th>\n",
       "      <th>Age</th>\n",
       "      <th>Outcome</th>\n",
       "      <th>Location_cat</th>\n",
       "      <th>Grade Name_cat</th>\n",
       "      <th>Gender_cat</th>\n",
       "    </tr>\n",
       "  </thead>\n",
       "  <tbody>\n",
       "    <tr>\n",
       "      <th>0</th>\n",
       "      <td>1</td>\n",
       "      <td>WY</td>\n",
       "      <td>HEO</td>\n",
       "      <td>20/12/2017</td>\n",
       "      <td>M</td>\n",
       "      <td>14/03/1956</td>\n",
       "      <td>Other</td>\n",
       "      <td>RETIREMENT</td>\n",
       "      <td>14/03/2016</td>\n",
       "      <td>1.768688</td>\n",
       "      <td>61.769920</td>\n",
       "      <td>True</td>\n",
       "      <td>14</td>\n",
       "      <td>8</td>\n",
       "      <td>1</td>\n",
       "    </tr>\n",
       "    <tr>\n",
       "      <th>2</th>\n",
       "      <td>3</td>\n",
       "      <td>FY</td>\n",
       "      <td>G6</td>\n",
       "      <td>31/10/2013</td>\n",
       "      <td>M</td>\n",
       "      <td>21/07/1956</td>\n",
       "      <td>Other</td>\n",
       "      <td>RETIREMENT</td>\n",
       "      <td>21/07/2016</td>\n",
       "      <td>-2.721480</td>\n",
       "      <td>57.279752</td>\n",
       "      <td>True</td>\n",
       "      <td>5</td>\n",
       "      <td>5</td>\n",
       "      <td>1</td>\n",
       "    </tr>\n",
       "    <tr>\n",
       "      <th>3</th>\n",
       "      <td>4</td>\n",
       "      <td>PB</td>\n",
       "      <td>HEO</td>\n",
       "      <td>29/04/2021</td>\n",
       "      <td>M</td>\n",
       "      <td>09/05/1955</td>\n",
       "      <td>Alpha</td>\n",
       "      <td>RESIGNATION</td>\n",
       "      <td>05/04/2021</td>\n",
       "      <td>-0.013690</td>\n",
       "      <td>65.649534</td>\n",
       "      <td>False</td>\n",
       "      <td>10</td>\n",
       "      <td>8</td>\n",
       "      <td>1</td>\n",
       "    </tr>\n",
       "    <tr>\n",
       "      <th>4</th>\n",
       "      <td>5</td>\n",
       "      <td>GL</td>\n",
       "      <td>HEO</td>\n",
       "      <td>31/05/2014</td>\n",
       "      <td>M</td>\n",
       "      <td>31/03/1954</td>\n",
       "      <td>Other</td>\n",
       "      <td>RETIREMENT</td>\n",
       "      <td>31/03/2014</td>\n",
       "      <td>0.167012</td>\n",
       "      <td>60.168244</td>\n",
       "      <td>True</td>\n",
       "      <td>6</td>\n",
       "      <td>8</td>\n",
       "      <td>1</td>\n",
       "    </tr>\n",
       "    <tr>\n",
       "      <th>5</th>\n",
       "      <td>6</td>\n",
       "      <td>FY</td>\n",
       "      <td>SEO</td>\n",
       "      <td>07/06/2013</td>\n",
       "      <td>M</td>\n",
       "      <td>07/06/1953</td>\n",
       "      <td>Other</td>\n",
       "      <td>RETIREMENT</td>\n",
       "      <td>07/06/2013</td>\n",
       "      <td>0.000000</td>\n",
       "      <td>60.001232</td>\n",
       "      <td>True</td>\n",
       "      <td>5</td>\n",
       "      <td>11</td>\n",
       "      <td>1</td>\n",
       "    </tr>\n",
       "  </tbody>\n",
       "</table>\n",
       "</div>"
      ],
      "text/plain": [
       "   ID Key Location Grade Name    End Date Gender Date of Birth Pension Scheme  \\\n",
       "0       1       WY        HEO  20/12/2017      M    14/03/1956          Other   \n",
       "2       3       FY         G6  31/10/2013      M    21/07/1956          Other   \n",
       "3       4       PB        HEO  29/04/2021      M    09/05/1955          Alpha   \n",
       "4       5       GL        HEO  31/05/2014      M    31/03/1954          Other   \n",
       "5       6       FY        SEO  07/06/2013      M    07/06/1953          Other   \n",
       "\n",
       "  Termination Reason Date Eligible for Retirement  Retirement Difference  \\\n",
       "0         RETIREMENT                   14/03/2016               1.768688   \n",
       "2         RETIREMENT                   21/07/2016              -2.721480   \n",
       "3        RESIGNATION                   05/04/2021              -0.013690   \n",
       "4         RETIREMENT                   31/03/2014               0.167012   \n",
       "5         RETIREMENT                   07/06/2013               0.000000   \n",
       "\n",
       "         Age  Outcome  Location_cat  Grade Name_cat  Gender_cat  \n",
       "0  61.769920     True            14               8           1  \n",
       "2  57.279752     True             5               5           1  \n",
       "3  65.649534    False            10               8           1  \n",
       "4  60.168244     True             6               8           1  \n",
       "5  60.001232     True             5              11           1  "
      ]
     },
     "execution_count": 230,
     "metadata": {},
     "output_type": "execute_result"
    }
   ],
   "source": [
    "reduced_data['Gender_cat'] = reduced_data['Gender'].cat.codes\n",
    "reduced_data.head()"
   ]
  },
  {
   "cell_type": "markdown",
   "metadata": {},
   "source": [
    "#### Pension Scheme"
   ]
  },
  {
   "cell_type": "code",
   "execution_count": 231,
   "metadata": {},
   "outputs": [
    {
     "data": {
      "text/plain": [
       "ID Key                             int64\n",
       "Location                        category\n",
       "Grade Name                      category\n",
       "End Date                          object\n",
       "Gender                          category\n",
       "Date of Birth                     object\n",
       "Pension Scheme                  category\n",
       "Termination Reason                object\n",
       "Date Eligible for Retirement      object\n",
       "Retirement Difference            float64\n",
       "Age                              float64\n",
       "Outcome                             bool\n",
       "Location_cat                        int8\n",
       "Grade Name_cat                      int8\n",
       "Gender_cat                          int8\n",
       "dtype: object"
      ]
     },
     "execution_count": 231,
     "metadata": {},
     "output_type": "execute_result"
    }
   ],
   "source": [
    "reduced_data['Pension Scheme'] = reduced_data['Pension Scheme'].astype('category')\n",
    "reduced_data.dtypes"
   ]
  },
  {
   "cell_type": "code",
   "execution_count": 232,
   "metadata": {},
   "outputs": [
    {
     "data": {
      "text/html": [
       "<div>\n",
       "<style scoped>\n",
       "    .dataframe tbody tr th:only-of-type {\n",
       "        vertical-align: middle;\n",
       "    }\n",
       "\n",
       "    .dataframe tbody tr th {\n",
       "        vertical-align: top;\n",
       "    }\n",
       "\n",
       "    .dataframe thead th {\n",
       "        text-align: right;\n",
       "    }\n",
       "</style>\n",
       "<table border=\"1\" class=\"dataframe\">\n",
       "  <thead>\n",
       "    <tr style=\"text-align: right;\">\n",
       "      <th></th>\n",
       "      <th>ID Key</th>\n",
       "      <th>Location</th>\n",
       "      <th>Grade Name</th>\n",
       "      <th>End Date</th>\n",
       "      <th>Gender</th>\n",
       "      <th>Date of Birth</th>\n",
       "      <th>Pension Scheme</th>\n",
       "      <th>Termination Reason</th>\n",
       "      <th>Date Eligible for Retirement</th>\n",
       "      <th>Retirement Difference</th>\n",
       "      <th>Age</th>\n",
       "      <th>Outcome</th>\n",
       "      <th>Location_cat</th>\n",
       "      <th>Grade Name_cat</th>\n",
       "      <th>Gender_cat</th>\n",
       "      <th>Pension Scheme_cat</th>\n",
       "    </tr>\n",
       "  </thead>\n",
       "  <tbody>\n",
       "    <tr>\n",
       "      <th>0</th>\n",
       "      <td>1</td>\n",
       "      <td>WY</td>\n",
       "      <td>HEO</td>\n",
       "      <td>20/12/2017</td>\n",
       "      <td>M</td>\n",
       "      <td>14/03/1956</td>\n",
       "      <td>Other</td>\n",
       "      <td>RETIREMENT</td>\n",
       "      <td>14/03/2016</td>\n",
       "      <td>1.768688</td>\n",
       "      <td>61.769920</td>\n",
       "      <td>True</td>\n",
       "      <td>14</td>\n",
       "      <td>8</td>\n",
       "      <td>1</td>\n",
       "      <td>2</td>\n",
       "    </tr>\n",
       "    <tr>\n",
       "      <th>2</th>\n",
       "      <td>3</td>\n",
       "      <td>FY</td>\n",
       "      <td>G6</td>\n",
       "      <td>31/10/2013</td>\n",
       "      <td>M</td>\n",
       "      <td>21/07/1956</td>\n",
       "      <td>Other</td>\n",
       "      <td>RETIREMENT</td>\n",
       "      <td>21/07/2016</td>\n",
       "      <td>-2.721480</td>\n",
       "      <td>57.279752</td>\n",
       "      <td>True</td>\n",
       "      <td>5</td>\n",
       "      <td>5</td>\n",
       "      <td>1</td>\n",
       "      <td>2</td>\n",
       "    </tr>\n",
       "    <tr>\n",
       "      <th>3</th>\n",
       "      <td>4</td>\n",
       "      <td>PB</td>\n",
       "      <td>HEO</td>\n",
       "      <td>29/04/2021</td>\n",
       "      <td>M</td>\n",
       "      <td>09/05/1955</td>\n",
       "      <td>Alpha</td>\n",
       "      <td>RESIGNATION</td>\n",
       "      <td>05/04/2021</td>\n",
       "      <td>-0.013690</td>\n",
       "      <td>65.649534</td>\n",
       "      <td>False</td>\n",
       "      <td>10</td>\n",
       "      <td>8</td>\n",
       "      <td>1</td>\n",
       "      <td>0</td>\n",
       "    </tr>\n",
       "    <tr>\n",
       "      <th>4</th>\n",
       "      <td>5</td>\n",
       "      <td>GL</td>\n",
       "      <td>HEO</td>\n",
       "      <td>31/05/2014</td>\n",
       "      <td>M</td>\n",
       "      <td>31/03/1954</td>\n",
       "      <td>Other</td>\n",
       "      <td>RETIREMENT</td>\n",
       "      <td>31/03/2014</td>\n",
       "      <td>0.167012</td>\n",
       "      <td>60.168244</td>\n",
       "      <td>True</td>\n",
       "      <td>6</td>\n",
       "      <td>8</td>\n",
       "      <td>1</td>\n",
       "      <td>2</td>\n",
       "    </tr>\n",
       "    <tr>\n",
       "      <th>5</th>\n",
       "      <td>6</td>\n",
       "      <td>FY</td>\n",
       "      <td>SEO</td>\n",
       "      <td>07/06/2013</td>\n",
       "      <td>M</td>\n",
       "      <td>07/06/1953</td>\n",
       "      <td>Other</td>\n",
       "      <td>RETIREMENT</td>\n",
       "      <td>07/06/2013</td>\n",
       "      <td>0.000000</td>\n",
       "      <td>60.001232</td>\n",
       "      <td>True</td>\n",
       "      <td>5</td>\n",
       "      <td>11</td>\n",
       "      <td>1</td>\n",
       "      <td>2</td>\n",
       "    </tr>\n",
       "  </tbody>\n",
       "</table>\n",
       "</div>"
      ],
      "text/plain": [
       "   ID Key Location Grade Name    End Date Gender Date of Birth Pension Scheme  \\\n",
       "0       1       WY        HEO  20/12/2017      M    14/03/1956          Other   \n",
       "2       3       FY         G6  31/10/2013      M    21/07/1956          Other   \n",
       "3       4       PB        HEO  29/04/2021      M    09/05/1955          Alpha   \n",
       "4       5       GL        HEO  31/05/2014      M    31/03/1954          Other   \n",
       "5       6       FY        SEO  07/06/2013      M    07/06/1953          Other   \n",
       "\n",
       "  Termination Reason Date Eligible for Retirement  Retirement Difference  \\\n",
       "0         RETIREMENT                   14/03/2016               1.768688   \n",
       "2         RETIREMENT                   21/07/2016              -2.721480   \n",
       "3        RESIGNATION                   05/04/2021              -0.013690   \n",
       "4         RETIREMENT                   31/03/2014               0.167012   \n",
       "5         RETIREMENT                   07/06/2013               0.000000   \n",
       "\n",
       "         Age  Outcome  Location_cat  Grade Name_cat  Gender_cat  \\\n",
       "0  61.769920     True            14               8           1   \n",
       "2  57.279752     True             5               5           1   \n",
       "3  65.649534    False            10               8           1   \n",
       "4  60.168244     True             6               8           1   \n",
       "5  60.001232     True             5              11           1   \n",
       "\n",
       "   Pension Scheme_cat  \n",
       "0                   2  \n",
       "2                   2  \n",
       "3                   0  \n",
       "4                   2  \n",
       "5                   2  "
      ]
     },
     "execution_count": 232,
     "metadata": {},
     "output_type": "execute_result"
    }
   ],
   "source": [
    "reduced_data['Pension Scheme_cat'] = reduced_data['Pension Scheme'].cat.codes\n",
    "reduced_data.head()"
   ]
  },
  {
   "cell_type": "code",
   "execution_count": 233,
   "metadata": {},
   "outputs": [
    {
     "data": {
      "text/plain": [
       "(1738, 16)"
      ]
     },
     "execution_count": 233,
     "metadata": {},
     "output_type": "execute_result"
    }
   ],
   "source": [
    "len(reduced_data)\n",
    "reduced_data.shape"
   ]
  },
  {
   "cell_type": "markdown",
   "metadata": {},
   "source": [
    "### Data Analysis"
   ]
  },
  {
   "cell_type": "markdown",
   "metadata": {},
   "source": [
    "#### Visualising data to check if the dataset is unbalanced and for inconsistent values"
   ]
  },
  {
   "cell_type": "markdown",
   "metadata": {},
   "source": [
    "##### Gender"
   ]
  },
  {
   "cell_type": "code",
   "execution_count": 234,
   "metadata": {},
   "outputs": [
    {
     "data": {
      "text/plain": [
       "<matplotlib.axes._subplots.AxesSubplot at 0x21c5d5c2860>"
      ]
     },
     "execution_count": 234,
     "metadata": {},
     "output_type": "execute_result"
    },
    {
     "data": {
      "image/png": "[encoded data removed]",
      "text/plain": [
       "<matplotlib.figure.Figure at 0x21c5ca98ba8>"
      ]
     },
     "metadata": {},
     "output_type": "display_data"
    }
   ],
   "source": [
    "gender_df = reduced_data['Gender'].value_counts().to_frame('Count').rename_axis('Gender').reset_index()\n",
    "\n",
    "gender_df.plot.bar(x='Gender',y='Count', legend=False)"
   ]
  },
  {
   "cell_type": "markdown",
   "metadata": {},
   "source": [
    "##### Pension Scheme"
   ]
  },
  {
   "cell_type": "code",
   "execution_count": 235,
   "metadata": {},
   "outputs": [
    {
     "data": {
      "text/plain": [
       "<matplotlib.axes._subplots.AxesSubplot at 0x21c5d5b09e8>"
      ]
     },
     "execution_count": 235,
     "metadata": {},
     "output_type": "execute_result"
    },
    {
     "data": {
      "image/png": "[encoded data removed]",
      "text/plain": [
       "<matplotlib.figure.Figure at 0x21c5af258d0>"
      ]
     },
     "metadata": {},
     "output_type": "display_data"
    }
   ],
   "source": [
    "pension_df = reduced_data['Pension Scheme'].value_counts().to_frame('Count').rename_axis('Pension Scheme').reset_index()\n",
    "\n",
    "pension_df.plot.bar(x='Pension Scheme',y='Count', legend=False)"
   ]
  },
  {
   "cell_type": "markdown",
   "metadata": {},
   "source": [
    "##### Location"
   ]
  },
  {
   "cell_type": "code",
   "execution_count": 236,
   "metadata": {},
   "outputs": [
    {
     "data": {
      "text/plain": [
       "<matplotlib.axes._subplots.AxesSubplot at 0x21c5cb27940>"
      ]
     },
     "execution_count": 236,
     "metadata": {},
     "output_type": "execute_result"
    },
    {
     "data": {
      "image/png": "[encoded data removed]",
      "text/plain": [
       "<matplotlib.figure.Figure at 0x21c5d216550>"
      ]
     },
     "metadata": {},
     "output_type": "display_data"
    }
   ],
   "source": [
    "location_df = reduced_data['Location'].value_counts().to_frame('Count').rename_axis('Location').reset_index()\n",
    "\n",
    "location_df.plot.bar(x='Location',y='Count', legend=False)"
   ]
  },
  {
   "cell_type": "markdown",
   "metadata": {},
   "source": [
    "##### Grade"
   ]
  },
  {
   "cell_type": "code",
   "execution_count": 237,
   "metadata": {},
   "outputs": [
    {
     "data": {
      "text/plain": [
       "<matplotlib.axes._subplots.AxesSubplot at 0x21c5cb3d7b8>"
      ]
     },
     "execution_count": 237,
     "metadata": {},
     "output_type": "execute_result"
    },
    {
     "data": {
      "image/png": "[encoded data removed]",
      "text/plain": [
       "<matplotlib.figure.Figure at 0x21c5caf75f8>"
      ]
     },
     "metadata": {},
     "output_type": "display_data"
    }
   ],
   "source": [
    "grade_df = reduced_data['Grade Name'].value_counts().to_frame('Count').rename_axis('Grade Name').reset_index()\n",
    "\n",
    "grade_df.plot.bar(x='Grade Name',y='Count', legend=False)"
   ]
  },
  {
   "cell_type": "code",
   "execution_count": 238,
   "metadata": {},
   "outputs": [],
   "source": [
    "cleaned_data = reduced_data[reduced_data.Location != '0']"
   ]
  },
  {
   "cell_type": "code",
   "execution_count": 239,
   "metadata": {},
   "outputs": [],
   "source": [
    "cleaned_data.to_csv('Cleaned Data.csv', index=0)"
   ]
  },
  {
   "cell_type": "code",
   "execution_count": 240,
   "metadata": {},
   "outputs": [],
   "source": [
    "cleaned_data = pd.read_csv(\"Cleaned Data.csv\")"
   ]
  },
  {
   "cell_type": "code",
   "execution_count": 241,
   "metadata": {},
   "outputs": [
    {
     "data": {
      "text/html": [
       "<div>\n",
       "<style scoped>\n",
       "    .dataframe tbody tr th:only-of-type {\n",
       "        vertical-align: middle;\n",
       "    }\n",
       "\n",
       "    .dataframe tbody tr th {\n",
       "        vertical-align: top;\n",
       "    }\n",
       "\n",
       "    .dataframe thead th {\n",
       "        text-align: right;\n",
       "    }\n",
       "</style>\n",
       "<table border=\"1\" class=\"dataframe\">\n",
       "  <thead>\n",
       "    <tr style=\"text-align: right;\">\n",
       "      <th></th>\n",
       "      <th>ID Key</th>\n",
       "      <th>Location</th>\n",
       "      <th>Grade Name</th>\n",
       "      <th>End Date</th>\n",
       "      <th>Gender</th>\n",
       "      <th>Date of Birth</th>\n",
       "      <th>Pension Scheme</th>\n",
       "      <th>Termination Reason</th>\n",
       "      <th>Date Eligible for Retirement</th>\n",
       "      <th>Retirement Difference</th>\n",
       "      <th>Age</th>\n",
       "      <th>Outcome</th>\n",
       "      <th>Location_cat</th>\n",
       "      <th>Grade Name_cat</th>\n",
       "      <th>Gender_cat</th>\n",
       "      <th>Pension Scheme_cat</th>\n",
       "    </tr>\n",
       "  </thead>\n",
       "  <tbody>\n",
       "    <tr>\n",
       "      <th>0</th>\n",
       "      <td>1</td>\n",
       "      <td>WY</td>\n",
       "      <td>HEO</td>\n",
       "      <td>20/12/2017</td>\n",
       "      <td>M</td>\n",
       "      <td>14/03/1956</td>\n",
       "      <td>Other</td>\n",
       "      <td>RETIREMENT</td>\n",
       "      <td>14/03/2016</td>\n",
       "      <td>1.768688</td>\n",
       "      <td>61.769920</td>\n",
       "      <td>True</td>\n",
       "      <td>14</td>\n",
       "      <td>8</td>\n",
       "      <td>1</td>\n",
       "      <td>2</td>\n",
       "    </tr>\n",
       "    <tr>\n",
       "      <th>1</th>\n",
       "      <td>3</td>\n",
       "      <td>FY</td>\n",
       "      <td>G6</td>\n",
       "      <td>31/10/2013</td>\n",
       "      <td>M</td>\n",
       "      <td>21/07/1956</td>\n",
       "      <td>Other</td>\n",
       "      <td>RETIREMENT</td>\n",
       "      <td>21/07/2016</td>\n",
       "      <td>-2.721480</td>\n",
       "      <td>57.279752</td>\n",
       "      <td>True</td>\n",
       "      <td>5</td>\n",
       "      <td>5</td>\n",
       "      <td>1</td>\n",
       "      <td>2</td>\n",
       "    </tr>\n",
       "    <tr>\n",
       "      <th>2</th>\n",
       "      <td>4</td>\n",
       "      <td>PB</td>\n",
       "      <td>HEO</td>\n",
       "      <td>29/04/2021</td>\n",
       "      <td>M</td>\n",
       "      <td>09/05/1955</td>\n",
       "      <td>Alpha</td>\n",
       "      <td>RESIGNATION</td>\n",
       "      <td>05/04/2021</td>\n",
       "      <td>-0.013690</td>\n",
       "      <td>65.649534</td>\n",
       "      <td>False</td>\n",
       "      <td>10</td>\n",
       "      <td>8</td>\n",
       "      <td>1</td>\n",
       "      <td>0</td>\n",
       "    </tr>\n",
       "    <tr>\n",
       "      <th>3</th>\n",
       "      <td>5</td>\n",
       "      <td>GL</td>\n",
       "      <td>HEO</td>\n",
       "      <td>31/05/2014</td>\n",
       "      <td>M</td>\n",
       "      <td>31/03/1954</td>\n",
       "      <td>Other</td>\n",
       "      <td>RETIREMENT</td>\n",
       "      <td>31/03/2014</td>\n",
       "      <td>0.167012</td>\n",
       "      <td>60.168244</td>\n",
       "      <td>True</td>\n",
       "      <td>6</td>\n",
       "      <td>8</td>\n",
       "      <td>1</td>\n",
       "      <td>2</td>\n",
       "    </tr>\n",
       "    <tr>\n",
       "      <th>4</th>\n",
       "      <td>6</td>\n",
       "      <td>FY</td>\n",
       "      <td>SEO</td>\n",
       "      <td>07/06/2013</td>\n",
       "      <td>M</td>\n",
       "      <td>07/06/1953</td>\n",
       "      <td>Other</td>\n",
       "      <td>RETIREMENT</td>\n",
       "      <td>07/06/2013</td>\n",
       "      <td>0.000000</td>\n",
       "      <td>60.001232</td>\n",
       "      <td>True</td>\n",
       "      <td>5</td>\n",
       "      <td>11</td>\n",
       "      <td>1</td>\n",
       "      <td>2</td>\n",
       "    </tr>\n",
       "  </tbody>\n",
       "</table>\n",
       "</div>"
      ],
      "text/plain": [
       "   ID Key Location Grade Name    End Date Gender Date of Birth Pension Scheme  \\\n",
       "0       1       WY        HEO  20/12/2017      M    14/03/1956          Other   \n",
       "1       3       FY         G6  31/10/2013      M    21/07/1956          Other   \n",
       "2       4       PB        HEO  29/04/2021      M    09/05/1955          Alpha   \n",
       "3       5       GL        HEO  31/05/2014      M    31/03/1954          Other   \n",
       "4       6       FY        SEO  07/06/2013      M    07/06/1953          Other   \n",
       "\n",
       "  Termination Reason Date Eligible for Retirement  Retirement Difference  \\\n",
       "0         RETIREMENT                   14/03/2016               1.768688   \n",
       "1         RETIREMENT                   21/07/2016              -2.721480   \n",
       "2        RESIGNATION                   05/04/2021              -0.013690   \n",
       "3         RETIREMENT                   31/03/2014               0.167012   \n",
       "4         RETIREMENT                   07/06/2013               0.000000   \n",
       "\n",
       "         Age  Outcome  Location_cat  Grade Name_cat  Gender_cat  \\\n",
       "0  61.769920     True            14               8           1   \n",
       "1  57.279752     True             5               5           1   \n",
       "2  65.649534    False            10               8           1   \n",
       "3  60.168244     True             6               8           1   \n",
       "4  60.001232     True             5              11           1   \n",
       "\n",
       "   Pension Scheme_cat  \n",
       "0                   2  \n",
       "1                   2  \n",
       "2                   0  \n",
       "3                   2  \n",
       "4                   2  "
      ]
     },
     "execution_count": 241,
     "metadata": {},
     "output_type": "execute_result"
    }
   ],
   "source": [
    "cleaned_data.head()"
   ]
  },
  {
   "cell_type": "code",
   "execution_count": 242,
   "metadata": {},
   "outputs": [
    {
     "data": {
      "image/png": "[encoded data removed]",
      "text/plain": [
       "<matplotlib.figure.Figure at 0x21c5cbf27b8>"
      ]
     },
     "metadata": {},
     "output_type": "display_data"
    },
    {
     "data": {
      "image/png": "[encoded data removed]",
      "text/plain": [
       "<matplotlib.figure.Figure at 0x21c5aec1470>"
      ]
     },
     "metadata": {},
     "output_type": "display_data"
    },
    {
     "data": {
      "image/png": "[encoded data removed]",
      "text/plain": [
       "<matplotlib.figure.Figure at 0x21c5d3eb0f0>"
      ]
     },
     "metadata": {},
     "output_type": "display_data"
    },
    {
     "data": {
      "image/png": "[encoded data removed]",
      "text/plain": [
       "<matplotlib.figure.Figure at 0x21c5c7a3518>"
      ]
     },
     "metadata": {},
     "output_type": "display_data"
    }
   ],
   "source": [
    "gender_df = cleaned_data['Gender'].value_counts().to_frame('Count').rename_axis('Gender').reset_index()\n",
    "pension_df = cleaned_data['Pension Scheme'].value_counts().to_frame('Count').rename_axis('Pension Scheme').reset_index()\n",
    "location_df = cleaned_data['Location'].value_counts().to_frame('Count').rename_axis('Location').reset_index()\n",
    "grade_df = cleaned_data['Grade Name'].value_counts().to_frame('Count').rename_axis('Grade Name').reset_index()\n",
    " \n",
    "gender_df.plot.bar(x='Gender',y='Count', legend=False)\n",
    "pension_df.plot.bar(x='Pension Scheme',y='Count', legend=False)\n",
    "location_df.plot.bar(x='Location',y='Count', legend=False)\n",
    "grade_df.plot.bar(x='Grade Name',y='Count', legend=False)    \n",
    "    \n",
    "plt.show()\n"
   ]
  },
  {
   "cell_type": "code",
   "execution_count": 243,
   "metadata": {},
   "outputs": [
    {
     "data": {
      "text/plain": [
       "<matplotlib.axes._subplots.AxesSubplot at 0x21c5cf50940>"
      ]
     },
     "execution_count": 243,
     "metadata": {},
     "output_type": "execute_result"
    },
    {
     "data": {
      "image/png": "[encoded data removed]",
      "text/plain": [
       "<matplotlib.figure.Figure at 0x21c5cf59390>"
      ]
     },
     "metadata": {},
     "output_type": "display_data"
    }
   ],
   "source": [
    "outcome_df = cleaned_data['Outcome'].value_counts().to_frame('Count').rename_axis('Outcome').reset_index()\n",
    "\n",
    "outcome_df.plot.bar(x='Outcome',y='Count', legend=False, title='Outcome')"
   ]
  },
  {
   "cell_type": "code",
   "execution_count": 244,
   "metadata": {},
   "outputs": [
    {
     "data": {
      "text/plain": [
       "798"
      ]
     },
     "execution_count": 244,
     "metadata": {},
     "output_type": "execute_result"
    }
   ],
   "source": [
    "cleaned_data['Outcome'].sum()"
   ]
  },
  {
   "cell_type": "markdown",
   "metadata": {},
   "source": [
    "#### Review of features"
   ]
  },
  {
   "cell_type": "code",
   "execution_count": 245,
   "metadata": {},
   "outputs": [
    {
     "name": "stdout",
     "output_type": "stream",
     "text": [
      "<class 'pandas.core.frame.DataFrame'>\n",
      "RangeIndex: 1733 entries, 0 to 1732\n",
      "Data columns (total 16 columns):\n",
      "ID Key                          1733 non-null int64\n",
      "Location                        1733 non-null object\n",
      "Grade Name                      1733 non-null object\n",
      "End Date                        1733 non-null object\n",
      "Gender                          1733 non-null object\n",
      "Date of Birth                   1733 non-null object\n",
      "Pension Scheme                  1733 non-null object\n",
      "Termination Reason              1733 non-null object\n",
      "Date Eligible for Retirement    1733 non-null object\n",
      "Retirement Difference           1733 non-null float64\n",
      "Age                             1733 non-null float64\n",
      "Outcome                         1733 non-null bool\n",
      "Location_cat                    1733 non-null int64\n",
      "Grade Name_cat                  1733 non-null int64\n",
      "Gender_cat                      1733 non-null int64\n",
      "Pension Scheme_cat              1733 non-null int64\n",
      "dtypes: bool(1), float64(2), int64(5), object(8)\n",
      "memory usage: 204.9+ KB\n"
     ]
    }
   ],
   "source": [
    "cleaned_data.info()"
   ]
  },
  {
   "cell_type": "markdown",
   "metadata": {},
   "source": [
    "#### Correlation review"
   ]
  },
  {
   "cell_type": "code",
   "execution_count": 246,
   "metadata": {},
   "outputs": [
    {
     "data": {
      "text/html": [
       "<div>\n",
       "<style scoped>\n",
       "    .dataframe tbody tr th:only-of-type {\n",
       "        vertical-align: middle;\n",
       "    }\n",
       "\n",
       "    .dataframe tbody tr th {\n",
       "        vertical-align: top;\n",
       "    }\n",
       "\n",
       "    .dataframe thead th {\n",
       "        text-align: right;\n",
       "    }\n",
       "</style>\n",
       "<table border=\"1\" class=\"dataframe\">\n",
       "  <thead>\n",
       "    <tr style=\"text-align: right;\">\n",
       "      <th></th>\n",
       "      <th>ID Key</th>\n",
       "      <th>Retirement Difference</th>\n",
       "      <th>Age</th>\n",
       "      <th>Outcome</th>\n",
       "      <th>Location_cat</th>\n",
       "      <th>Grade Name_cat</th>\n",
       "      <th>Gender_cat</th>\n",
       "      <th>Pension Scheme_cat</th>\n",
       "    </tr>\n",
       "  </thead>\n",
       "  <tbody>\n",
       "    <tr>\n",
       "      <th>ID Key</th>\n",
       "      <td>1.000000</td>\n",
       "      <td>-0.731166</td>\n",
       "      <td>-0.715034</td>\n",
       "      <td>-0.748571</td>\n",
       "      <td>-0.031146</td>\n",
       "      <td>-0.419684</td>\n",
       "      <td>0.042557</td>\n",
       "      <td>-0.459277</td>\n",
       "    </tr>\n",
       "    <tr>\n",
       "      <th>Retirement Difference</th>\n",
       "      <td>-0.731166</td>\n",
       "      <td>1.000000</td>\n",
       "      <td>0.989783</td>\n",
       "      <td>0.783359</td>\n",
       "      <td>0.012942</td>\n",
       "      <td>0.377114</td>\n",
       "      <td>-0.047253</td>\n",
       "      <td>0.557045</td>\n",
       "    </tr>\n",
       "    <tr>\n",
       "      <th>Age</th>\n",
       "      <td>-0.715034</td>\n",
       "      <td>0.989783</td>\n",
       "      <td>1.000000</td>\n",
       "      <td>0.747867</td>\n",
       "      <td>0.013266</td>\n",
       "      <td>0.380762</td>\n",
       "      <td>-0.057181</td>\n",
       "      <td>0.441079</td>\n",
       "    </tr>\n",
       "    <tr>\n",
       "      <th>Outcome</th>\n",
       "      <td>-0.748571</td>\n",
       "      <td>0.783359</td>\n",
       "      <td>0.747867</td>\n",
       "      <td>1.000000</td>\n",
       "      <td>0.025014</td>\n",
       "      <td>0.290927</td>\n",
       "      <td>-0.030645</td>\n",
       "      <td>0.594547</td>\n",
       "    </tr>\n",
       "    <tr>\n",
       "      <th>Location_cat</th>\n",
       "      <td>-0.031146</td>\n",
       "      <td>0.012942</td>\n",
       "      <td>0.013266</td>\n",
       "      <td>0.025014</td>\n",
       "      <td>1.000000</td>\n",
       "      <td>0.000524</td>\n",
       "      <td>0.051952</td>\n",
       "      <td>0.006650</td>\n",
       "    </tr>\n",
       "    <tr>\n",
       "      <th>Grade Name_cat</th>\n",
       "      <td>-0.419684</td>\n",
       "      <td>0.377114</td>\n",
       "      <td>0.380762</td>\n",
       "      <td>0.290927</td>\n",
       "      <td>0.000524</td>\n",
       "      <td>1.000000</td>\n",
       "      <td>0.086616</td>\n",
       "      <td>0.184193</td>\n",
       "    </tr>\n",
       "    <tr>\n",
       "      <th>Gender_cat</th>\n",
       "      <td>0.042557</td>\n",
       "      <td>-0.047253</td>\n",
       "      <td>-0.057181</td>\n",
       "      <td>-0.030645</td>\n",
       "      <td>0.051952</td>\n",
       "      <td>0.086616</td>\n",
       "      <td>1.000000</td>\n",
       "      <td>0.043006</td>\n",
       "    </tr>\n",
       "    <tr>\n",
       "      <th>Pension Scheme_cat</th>\n",
       "      <td>-0.459277</td>\n",
       "      <td>0.557045</td>\n",
       "      <td>0.441079</td>\n",
       "      <td>0.594547</td>\n",
       "      <td>0.006650</td>\n",
       "      <td>0.184193</td>\n",
       "      <td>0.043006</td>\n",
       "      <td>1.000000</td>\n",
       "    </tr>\n",
       "  </tbody>\n",
       "</table>\n",
       "</div>"
      ],
      "text/plain": [
       "                         ID Key  Retirement Difference       Age   Outcome  \\\n",
       "ID Key                 1.000000              -0.731166 -0.715034 -0.748571   \n",
       "Retirement Difference -0.731166               1.000000  0.989783  0.783359   \n",
       "Age                   -0.715034               0.989783  1.000000  0.747867   \n",
       "Outcome               -0.748571               0.783359  0.747867  1.000000   \n",
       "Location_cat          -0.031146               0.012942  0.013266  0.025014   \n",
       "Grade Name_cat        -0.419684               0.377114  0.380762  0.290927   \n",
       "Gender_cat             0.042557              -0.047253 -0.057181 -0.030645   \n",
       "Pension Scheme_cat    -0.459277               0.557045  0.441079  0.594547   \n",
       "\n",
       "                       Location_cat  Grade Name_cat  Gender_cat  \\\n",
       "ID Key                    -0.031146       -0.419684    0.042557   \n",
       "Retirement Difference      0.012942        0.377114   -0.047253   \n",
       "Age                        0.013266        0.380762   -0.057181   \n",
       "Outcome                    0.025014        0.290927   -0.030645   \n",
       "Location_cat               1.000000        0.000524    0.051952   \n",
       "Grade Name_cat             0.000524        1.000000    0.086616   \n",
       "Gender_cat                 0.051952        0.086616    1.000000   \n",
       "Pension Scheme_cat         0.006650        0.184193    0.043006   \n",
       "\n",
       "                       Pension Scheme_cat  \n",
       "ID Key                          -0.459277  \n",
       "Retirement Difference            0.557045  \n",
       "Age                              0.441079  \n",
       "Outcome                          0.594547  \n",
       "Location_cat                     0.006650  \n",
       "Grade Name_cat                   0.184193  \n",
       "Gender_cat                       0.043006  \n",
       "Pension Scheme_cat               1.000000  "
      ]
     },
     "execution_count": 246,
     "metadata": {},
     "output_type": "execute_result"
    }
   ],
   "source": [
    "cleaned_data.corr()"
   ]
  },
  {
   "cell_type": "markdown",
   "metadata": {},
   "source": [
    "## Need to display this in a better way!"
   ]
  },
  {
   "cell_type": "code",
   "execution_count": 247,
   "metadata": {},
   "outputs": [
    {
     "data": {
      "image/png": "[encoded data removed]",
      "text/plain": [
       "<matplotlib.figure.Figure at 0x21c5ca69780>"
      ]
     },
     "metadata": {},
     "output_type": "display_data"
    }
   ],
   "source": [
    "plt.imshow(cleaned_data.corr(), cmap='coolwarm', interpolation='none')\n",
    "plt.colorbar()\n",
    "plt.xticks(range(len(cleaned_data.columns)), cleaned_data.columns, rotation=90)\n",
    "plt.yticks(range(len(cleaned_data.columns)), cleaned_data.columns)\n",
    "plt.gcf().set_size_inches(8,8)\n",
    "\n",
    "labels = cleaned_data.corr().values\n",
    "for y in range(labels.shape[0]):\n",
    "    for x in range(labels.shape[1]):\n",
    "        plt.text(x, y, '{:.2f}'.format(labels[y, x]), ha='center', va='center', color='white')"
   ]
  },
  {
   "cell_type": "code",
   "execution_count": 248,
   "metadata": {},
   "outputs": [],
   "source": [
    "cleaned_data.to_csv('Test - Train Modelling Data.csv', index=False)"
   ]
  }
 ],
 "metadata": {
  "kernelspec": {
   "display_name": "Python 3",
   "language": "python",
   "name": "python3"
  },
  "language_info": {
   "codemirror_mode": {
    "name": "ipython",
    "version": 3
   },
   "file_extension": ".py",
   "mimetype": "text/x-python",
   "name": "python",
   "nbconvert_exporter": "python",
   "pygments_lexer": "ipython3",
   "version": "3.6.4"
  }
 },
 "nbformat": 4,
 "nbformat_minor": 2
}
