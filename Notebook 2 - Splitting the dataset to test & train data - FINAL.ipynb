{
 "cells": [
  {
   "cell_type": "markdown",
   "metadata": {},
   "source": [
    "## Splitting data for testing and training."
   ]
  },
  {
   "cell_type": "markdown",
   "metadata": {},
   "source": [
    "#### The reason for doing this separate from the models is so that the test & train data can be kept consistent across the models."
   ]
  },
  {
   "cell_type": "code",
   "execution_count": 8,
   "metadata": {},
   "outputs": [],
   "source": [
    "'''Iporting libraries'''\n",
    "\n",
    "from sklearn.model_selection import train_test_split\n",
    "import pandas as pd"
   ]
  },
  {
   "cell_type": "code",
   "execution_count": 9,
   "metadata": {},
   "outputs": [],
   "source": [
    "model_test_data = pd.read_csv('Test - Train Modelling Data.csv')"
   ]
  },
  {
   "cell_type": "code",
   "execution_count": 10,
   "metadata": {},
   "outputs": [
    {
     "data": {
      "text/html": [
       "<div>\n",
       "<style scoped>\n",
       "    .dataframe tbody tr th:only-of-type {\n",
       "        vertical-align: middle;\n",
       "    }\n",
       "\n",
       "    .dataframe tbody tr th {\n",
       "        vertical-align: top;\n",
       "    }\n",
       "\n",
       "    .dataframe thead th {\n",
       "        text-align: right;\n",
       "    }\n",
       "</style>\n",
       "<table border=\"1\" class=\"dataframe\">\n",
       "  <thead>\n",
       "    <tr style=\"text-align: right;\">\n",
       "      <th></th>\n",
       "      <th>ID Key</th>\n",
       "      <th>Location</th>\n",
       "      <th>Grade Name</th>\n",
       "      <th>End Date</th>\n",
       "      <th>Gender</th>\n",
       "      <th>Date of Birth</th>\n",
       "      <th>Pension Scheme</th>\n",
       "      <th>Termination Reason</th>\n",
       "      <th>Date Eligible for Retirement</th>\n",
       "      <th>Retirement Difference</th>\n",
       "      <th>Age</th>\n",
       "      <th>Outcome</th>\n",
       "      <th>Location_cat</th>\n",
       "      <th>Grade Name_cat</th>\n",
       "      <th>Gender_cat</th>\n",
       "      <th>Pension Scheme_cat</th>\n",
       "    </tr>\n",
       "  </thead>\n",
       "  <tbody>\n",
       "    <tr>\n",
       "      <th>0</th>\n",
       "      <td>1</td>\n",
       "      <td>WY</td>\n",
       "      <td>HEO</td>\n",
       "      <td>20/12/2017</td>\n",
       "      <td>M</td>\n",
       "      <td>14/03/1956</td>\n",
       "      <td>Other</td>\n",
       "      <td>RETIREMENT</td>\n",
       "      <td>14/03/2016</td>\n",
       "      <td>1.768688</td>\n",
       "      <td>61.769920</td>\n",
       "      <td>True</td>\n",
       "      <td>14</td>\n",
       "      <td>8</td>\n",
       "      <td>1</td>\n",
       "      <td>2</td>\n",
       "    </tr>\n",
       "    <tr>\n",
       "      <th>1</th>\n",
       "      <td>3</td>\n",
       "      <td>FY</td>\n",
       "      <td>G6</td>\n",
       "      <td>31/10/2013</td>\n",
       "      <td>M</td>\n",
       "      <td>21/07/1956</td>\n",
       "      <td>Other</td>\n",
       "      <td>RETIREMENT</td>\n",
       "      <td>21/07/2016</td>\n",
       "      <td>-2.721480</td>\n",
       "      <td>57.279752</td>\n",
       "      <td>True</td>\n",
       "      <td>5</td>\n",
       "      <td>5</td>\n",
       "      <td>1</td>\n",
       "      <td>2</td>\n",
       "    </tr>\n",
       "    <tr>\n",
       "      <th>2</th>\n",
       "      <td>4</td>\n",
       "      <td>PB</td>\n",
       "      <td>HEO</td>\n",
       "      <td>29/04/2021</td>\n",
       "      <td>M</td>\n",
       "      <td>09/05/1955</td>\n",
       "      <td>Alpha</td>\n",
       "      <td>RESIGNATION</td>\n",
       "      <td>05/04/2021</td>\n",
       "      <td>-0.013690</td>\n",
       "      <td>65.649534</td>\n",
       "      <td>False</td>\n",
       "      <td>10</td>\n",
       "      <td>8</td>\n",
       "      <td>1</td>\n",
       "      <td>0</td>\n",
       "    </tr>\n",
       "    <tr>\n",
       "      <th>3</th>\n",
       "      <td>5</td>\n",
       "      <td>GL</td>\n",
       "      <td>HEO</td>\n",
       "      <td>31/05/2014</td>\n",
       "      <td>M</td>\n",
       "      <td>31/03/1954</td>\n",
       "      <td>Other</td>\n",
       "      <td>RETIREMENT</td>\n",
       "      <td>31/03/2014</td>\n",
       "      <td>0.167012</td>\n",
       "      <td>60.168244</td>\n",
       "      <td>True</td>\n",
       "      <td>6</td>\n",
       "      <td>8</td>\n",
       "      <td>1</td>\n",
       "      <td>2</td>\n",
       "    </tr>\n",
       "    <tr>\n",
       "      <th>4</th>\n",
       "      <td>6</td>\n",
       "      <td>FY</td>\n",
       "      <td>SEO</td>\n",
       "      <td>07/06/2013</td>\n",
       "      <td>M</td>\n",
       "      <td>07/06/1953</td>\n",
       "      <td>Other</td>\n",
       "      <td>RETIREMENT</td>\n",
       "      <td>07/06/2013</td>\n",
       "      <td>0.000000</td>\n",
       "      <td>60.001232</td>\n",
       "      <td>True</td>\n",
       "      <td>5</td>\n",
       "      <td>11</td>\n",
       "      <td>1</td>\n",
       "      <td>2</td>\n",
       "    </tr>\n",
       "  </tbody>\n",
       "</table>\n",
       "</div>"
      ],
      "text/plain": [
       "   ID Key Location Grade Name    End Date Gender Date of Birth Pension Scheme  \\\n",
       "0       1       WY        HEO  20/12/2017      M    14/03/1956          Other   \n",
       "1       3       FY         G6  31/10/2013      M    21/07/1956          Other   \n",
       "2       4       PB        HEO  29/04/2021      M    09/05/1955          Alpha   \n",
       "3       5       GL        HEO  31/05/2014      M    31/03/1954          Other   \n",
       "4       6       FY        SEO  07/06/2013      M    07/06/1953          Other   \n",
       "\n",
       "  Termination Reason Date Eligible for Retirement  Retirement Difference  \\\n",
       "0         RETIREMENT                   14/03/2016               1.768688   \n",
       "1         RETIREMENT                   21/07/2016              -2.721480   \n",
       "2        RESIGNATION                   05/04/2021              -0.013690   \n",
       "3         RETIREMENT                   31/03/2014               0.167012   \n",
       "4         RETIREMENT                   07/06/2013               0.000000   \n",
       "\n",
       "         Age  Outcome  Location_cat  Grade Name_cat  Gender_cat  \\\n",
       "0  61.769920     True            14               8           1   \n",
       "1  57.279752     True             5               5           1   \n",
       "2  65.649534    False            10               8           1   \n",
       "3  60.168244     True             6               8           1   \n",
       "4  60.001232     True             5              11           1   \n",
       "\n",
       "   Pension Scheme_cat  \n",
       "0                   2  \n",
       "1                   2  \n",
       "2                   0  \n",
       "3                   2  \n",
       "4                   2  "
      ]
     },
     "execution_count": 10,
     "metadata": {},
     "output_type": "execute_result"
    }
   ],
   "source": [
    "model_test_data.head()"
   ]
  },
  {
   "cell_type": "code",
   "execution_count": 11,
   "metadata": {},
   "outputs": [],
   "source": [
    "x = model_test_data[['Location_cat','Grade Name_cat','Gender_cat','Pension Scheme_cat','Retirement Difference','Age']]\n",
    "y = model_test_data[['Outcome']]"
   ]
  },
  {
   "cell_type": "code",
   "execution_count": 12,
   "metadata": {},
   "outputs": [],
   "source": [
    "X_train, X_test, y_train, y_test = train_test_split(x,y, test_size = 0.8)"
   ]
  },
  {
   "cell_type": "code",
   "execution_count": 13,
   "metadata": {},
   "outputs": [],
   "source": [
    "X_train.to_csv('X_train.csv',index=False)\n",
    "X_test.to_csv('X_test.csv', index=False)\n",
    "y_train.to_csv('y_train.csv',index=False)\n",
    "y_test.to_csv('y_test.csv', index=False)"
   ]
  }
 ],
 "metadata": {
  "kernelspec": {
   "display_name": "Python 3",
   "language": "python",
   "name": "python3"
  },
  "language_info": {
   "codemirror_mode": {
    "name": "ipython",
    "version": 3
   },
   "file_extension": ".py",
   "mimetype": "text/x-python",
   "name": "python",
   "nbconvert_exporter": "python",
   "pygments_lexer": "ipython3",
   "version": "3.8.5"
  }
 },
 "nbformat": 4,
 "nbformat_minor": 4
}
